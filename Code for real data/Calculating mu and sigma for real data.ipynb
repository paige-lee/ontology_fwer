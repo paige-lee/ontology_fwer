{
 "cells": [
  {
   "cell_type": "markdown",
   "id": "0f3b61d6",
   "metadata": {},
   "source": [
    "# 1. Setup"
   ]
  },
  {
   "cell_type": "code",
   "execution_count": 1,
   "id": "465c1bda",
   "metadata": {},
   "outputs": [],
   "source": [
    "import numpy as np\n",
    "%matplotlib notebook\n",
    "import matplotlib.pyplot as plt\n",
    "import pandas as pd\n",
    "import re\n",
    "from glob import glob\n",
    "import os\n",
    "from functions_py_file import *"
   ]
  },
  {
   "cell_type": "markdown",
   "id": "f18141f9",
   "metadata": {},
   "source": [
    "# 2. Loading and generating dummy data for X and P\n",
    "\n",
    "X contains the observed data for each leaf structure and each subject \n",
    "\n",
    "P contains the marginal probabilities that structures are affected) for both leaf and non-leaf structures \n",
    "\n",
    "* $P_{ij}$ is the probability that a structure i is affected given $X_{ij}$\n",
    "* $P_{ij}$ is the posterior probability given the data\n",
    "* In our code, the variable $P_{ij}$ is called `posterior` $\\rightarrow$ we must index `posterior` so that we just have the values for leaf structures"
   ]
  },
  {
   "cell_type": "code",
   "execution_count": 2,
   "id": "b67df045",
   "metadata": {},
   "outputs": [
    {
     "data": {
      "text/plain": [
       "array([[-1.65830854,  1.06862772],\n",
       "       [-1.55608052,  1.32659454],\n",
       "       [-1.25835328,  1.34691376],\n",
       "       [ 0.27317221,  0.26482819],\n",
       "       [ 4.45708111,  0.40883695],\n",
       "       [-0.45648577,  3.16245117],\n",
       "       [ 0.44170751,  2.28639287],\n",
       "       [ 2.12004193, -0.01084918],\n",
       "       [-0.40958086,  1.90966784],\n",
       "       [ 2.49087637,  0.17468901],\n",
       "       [ 0.65169195, -0.02742522],\n",
       "       [ 0.68536846,  0.79055769],\n",
       "       [-0.36241304, -0.7791171 ],\n",
       "       [ 1.21656581, -0.2686083 ],\n",
       "       [ 0.4315702 , -0.12492621],\n",
       "       [-1.08265721, -1.12421064],\n",
       "       [ 0.01726323, -0.68373408],\n",
       "       [-0.67447636, -0.38647334],\n",
       "       [ 1.69139926,  0.85812991],\n",
       "       [ 0.91961641,  0.17195564]])"
      ]
     },
     "execution_count": 2,
     "metadata": {},
     "output_type": "execute_result"
    }
   ],
   "source": [
    "# Load a previously generated data file to extract X\n",
    "data = np.load(\"test4_data_repeat_000051.npz\")\n",
    "X = data[\"X\"]\n",
    "X"
   ]
  },
  {
   "cell_type": "code",
   "execution_count": 3,
   "id": "9a5af119",
   "metadata": {},
   "outputs": [],
   "source": [
    "adjacency_matrix = pd.read_csv(\"adjacency_matrix2.csv\", header=0, index_col=0)\n",
    "adjacency_matrix = clean_adjacency_mat(adjacency_matrix)\n",
    "multilevel = pd.read_csv(\"multilevel2.csv\", header=0, index_col=0) \n",
    "multilevel = clean_multilevel(multilevel, adjacency_matrix)\n",
    "subset_leaf_list = [\"Amyg_L_73_1\", \"Hippo_L_75_1\"]\n",
    "subset = subset_matrix_creator(subset_leaf_list, adjacency_matrix, multilevel)\n",
    "descendants = adjacency_descendants(subset, N=20, mu=3.0)\n",
    "M = subset.shape[0]\n",
    "N = X.shape[0]\n",
    "Descendants_and_self = np.logical_or(descendants, np.eye(M))\n",
    "is_leaf = np.sum(Descendants_and_self, 1) == 1\n",
    "niter = 100\n",
    "P = np.ones(M)*0.5\n",
    "clip = 0.001\n",
    "mu = 3\n",
    "A = np.array(subset, dtype = bool)\n",
    "\n",
    "for it in range(niter):\n",
    "    P_ = np.maximum(P, clip) # Clip probability: if P is very small, then set it to 0.001\n",
    "    P_ = np.minimum(P_, 1-clip) # Clip probability: if P_ is very big, then set it to 0.999\n",
    "    P_over_one_minus_P = P_/(1.0-P_)\n",
    "    leaf_log_posterior = -np.log1p( P_over_one_minus_P[is_leaf]*phi(X,mu)/phi(X) )\n",
    "        \n",
    "log_posterior = np.zeros((N,M))\n",
    "for i in range(M):\n",
    "    log_posterior[:,i] = np.sum(leaf_log_posterior[:,Descendants_and_self[i,:][is_leaf]],1)\n",
    "    \n",
    "Q = Q_from_P(P,A)\n",
    "log_adjustment_single = np.zeros(M)\n",
    "for i in range(M):\n",
    "    if is_leaf[i]:\n",
    "        continue\n",
    "    log_adjustment_single[i] = -np.log1p(P_over_one_minus_P[i]*np.prod(1.0 - Q[A[i,:]]))\n",
    "     \n",
    "log_adjustment = np.ones(M)\n",
    "for i in range(M):\n",
    "    log_adjustment[i] = np.sum(log_adjustment_single[Descendants_and_self[i,:]])\n",
    "          \n",
    "log_posterior = log_posterior + log_adjustment\n",
    "\n",
    "P = -np.sum(np.expm1(log_posterior),0)/N\n",
    "posterior = np.exp(log_posterior)\n",
    "posterior = posterior[:, is_leaf]"
   ]
  },
  {
   "cell_type": "markdown",
   "id": "f8e0435c",
   "metadata": {},
   "source": [
    "# 3. Modify the `phi()` function (Gaussian)\n",
    "\n",
    "The current `phi()` function only takes mu (default 0) as an input, and it assumes that sigma is 1. \n",
    "\n",
    "Now, for dealing with real data, we want to input the mean (either $\\mu_0$ or $\\mu_1$, each default 0) as well as the variance (not SD anymore) $\\sigma^2$ (default 1), assuming both groups have the same equal variance.\n",
    "\n",
    "Gaussian PDF for group 0 (unaffected): $f_0^i (X_i^j) = \\frac{1}{\\sqrt{2 \\pi v_i}} e^{-\\frac{(X_i^j - \\mu_i^0)^2}{2v_i}}$\n",
    "\n",
    "Gaussian PDF for group 1 (affected): $f_1^i (X_i^j) = \\frac{1}{\\sqrt{2 \\pi v_i}} e^{-\\frac{(X_i^j - \\mu_i^1)^2}{2v_i}}$\n",
    "\n",
    "Common variance: $v = \\sigma_0^2 = \\sigma_1^2$"
   ]
  },
  {
   "cell_type": "code",
   "execution_count": 4,
   "id": "bd44500d",
   "metadata": {},
   "outputs": [],
   "source": [
    "def phi(x, mu = 0.0, sigma2 = 1.0):\n",
    "    return 1.0 / np.sqrt(2.0 * np.pi * sigma2) * np.exp(-(x - mu)**2 / (2.0 * sigma2))"
   ]
  },
  {
   "cell_type": "markdown",
   "id": "44f44010",
   "metadata": {},
   "source": [
    "# 4. Where in the code is the `phi()` function called?\n",
    "\n",
    "Old functions .py file: https://github.com/paige-lee/ontology_fwer/blob/main/Defining%20functions/functions_py_file.py\n",
    "\n",
    "Line 404 in the above .py file: `leaf_log_posterior = -np.log1p(P_over_one_minus_P[is_leaf]*phi(X,mu)/phi(X))`\n",
    "\n",
    "* This is the log likelihood ratio that involves the ratio of the Gaussian for class 1 (affected) to the Gaussian for class 0 (unaffected)\n",
    "* Gaussian for class 1 (affected): `phi(X,mu)`\n",
    "* Gaussian for class 0 (unaffected): `phi(X)` \n",
    "    - `mu = 0` by default\n",
    "    \n",
    "Now, we must update the `estimate_P()` function so that it inputs two mu arguments, not just one $\\rightarrow$ instead of only `mu` as an argument, we want to also input `mu0`, `mu1`, and `sigma2` as arguments\n",
    "\n",
    "Updated line 404: `leaf_log_posterior = -np.log1p(P_over_one_minus_P[is_leaf]*phi(X,mu1, sigma2)/phi(X, mu0, sigma2))`"
   ]
  },
  {
   "cell_type": "markdown",
   "id": "c897dc26",
   "metadata": {},
   "source": [
    "# 5. Write a function that calculates mu and sigma from X and P\n",
    "\n",
    "Indices:\n",
    "\n",
    "* i is the structure number \n",
    "* j is the patient number\n",
    "\n",
    "MLE of $\\mu_0$: $\\hat{\\mu_i^0} = \\frac{\\sum_j X_{ij} (1 - P_{ij})}{\\sum_j (1 - P_{ij})}$\n",
    "\n",
    "MLE of $\\mu_1$: $\\hat{\\mu_i^1} = \\frac{\\sum_j P_{ij} X_{ij}}{\\sum_j P_{ij}}$ \n",
    "\n",
    "MLE of $v$ (common equal variance): $\\hat{v_i} = \\frac{\\sum_j P_{ij} (X_{ij} - \\hat{\\mu_i^1})^2 + \\sum_j (1 - P_{ij}) (X_{ij} - \\hat{\\mu_i^0})^2}{N}$"
   ]
  },
  {
   "cell_type": "code",
   "execution_count": 5,
   "id": "cb788bc7",
   "metadata": {},
   "outputs": [
    {
     "data": {
      "text/plain": [
       "((20, 2), (20, 2))"
      ]
     },
     "execution_count": 5,
     "metadata": {},
     "output_type": "execute_result"
    }
   ],
   "source": [
    "X.shape, posterior.shape \n",
    "# Both X and P_{ij} have the same dimensions"
   ]
  },
  {
   "cell_type": "code",
   "execution_count": 6,
   "id": "38b1618d",
   "metadata": {},
   "outputs": [],
   "source": [
    "def calc_mu_sigma_from_xp(X, P_ij, M):\n",
    "    mu0i = sum(X * (1 - P_ij)) / sum(1 - P_ij)\n",
    "    mu1i = sum(P_ij * X) / sum(P_ij)\n",
    "    vi = (sum(P_ij * (X - mu1i)**2) + sum((1 - P_ij) * (X - mu0i)**2)) / M\n",
    "    return mu0i, mu1i, vi"
   ]
  },
  {
   "cell_type": "code",
   "execution_count": 7,
   "id": "340c97db",
   "metadata": {},
   "outputs": [
    {
     "data": {
      "text/plain": [
       "(array([2.48079773, 2.02878524]),\n",
       " array([-0.15450929,  0.13749105]),\n",
       " array([2.48238184, 1.36918263]))"
      ]
     },
     "execution_count": 7,
     "metadata": {},
     "output_type": "execute_result"
    }
   ],
   "source": [
    "calc_mu_sigma_from_xp(X, posterior, M)"
   ]
  }
 ],
 "metadata": {
  "kernelspec": {
   "display_name": "Python 3 (ipykernel)",
   "language": "python",
   "name": "python3"
  },
  "language_info": {
   "codemirror_mode": {
    "name": "ipython",
    "version": 3
   },
   "file_extension": ".py",
   "mimetype": "text/x-python",
   "name": "python",
   "nbconvert_exporter": "python",
   "pygments_lexer": "ipython3",
   "version": "3.8.8"
  }
 },
 "nbformat": 4,
 "nbformat_minor": 5
}
