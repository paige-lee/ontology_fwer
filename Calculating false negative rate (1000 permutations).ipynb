{
 "cells": [
  {
   "cell_type": "markdown",
   "id": "c04fe9d3",
   "metadata": {},
   "source": [
    "## Logic for calculating the false negative rate\n",
    "\n",
    "#### Case 1 repeats (8 experiments, 1000 repeats each):\n",
    "\n",
    "- None of the structures are actually affected, so all of the structures are true negatives; in this case, it's impossible to have false negatives $\\rightarrow$ skip\n",
    "\n",
    "#### Case 2 repeats (8 experiments, 1000 repeats each):\n",
    "\n",
    "- Left hippocampus (levels 1&2) are actually affected \n",
    "- Record how many times any structure (excluding left amygdala levels 1 and 2) has p<0.05 \n",
    "- Use 6 counters $\\rightarrow$ produce 6 false negative rates\n",
    "\n",
    "#### Case 3 repeats (8 experiments, 1000 repeats each):\n",
    "\n",
    "- Left hippocampus (levels 1&2) and left amygdala (levels 1&2) are actually affected \n",
    "- Record how many times any structure has p<0.05 \n",
    "- Use 8 counters $\\rightarrow$ produce 8 false negative rates  \n",
    "\n",
    "#### Case 4 repeats (8 experiments, 1000 repeats each):\n",
    "\n",
    "- Skip\n",
    "\n",
    "#### In total, there are 8000 * 4 = 32,000 repeats"
   ]
  },
  {
   "cell_type": "markdown",
   "id": "b9727bcf",
   "metadata": {},
   "source": [
    "## Setup"
   ]
  },
  {
   "cell_type": "markdown",
   "id": "e01694ae",
   "metadata": {},
   "source": [
    "### Load packages"
   ]
  },
  {
   "cell_type": "code",
   "execution_count": 1,
   "id": "df3ca8dd",
   "metadata": {},
   "outputs": [],
   "source": [
    "import numpy as np\n",
    "%matplotlib notebook\n",
    "import matplotlib.pyplot as plt\n",
    "import pandas as pd\n",
    "\n",
    "import scipy\n",
    "from scipy import stats\n",
    "from scipy.stats import binom"
   ]
  },
  {
   "cell_type": "markdown",
   "id": "2d9cb7b0",
   "metadata": {},
   "source": [
    "### Define the sorting function"
   ]
  },
  {
   "cell_type": "code",
   "execution_count": 2,
   "id": "6dfadd9d",
   "metadata": {},
   "outputs": [],
   "source": [
    "dictionary = {\"Everything\" : 1, \n",
    "              \"Telencephalon_L_501_5\" : 2,\n",
    "              \"CerebralCortex_L_482_4\": 3, \n",
    "              \"Limbic_L_434_3\" : 4,\n",
    "              \"Hippo_L_338_2\" : 5,\n",
    "              \"Amyg_L_336_2\" : 6,\n",
    "              \"Hippo_L_75_1\" : 7,\n",
    "              \"Amyg_L_73_1\" : 8\n",
    "             }\n",
    "\n",
    "\n",
    "# Purpose: to sort structures that have ties in probability of being affected P[Z=1|X]. \n",
    "    # Tied structures are sorted from parent to child\n",
    "# Input: a list of strings from one .npz file\n",
    "    # Each list contains the structure name, probability of being affected, and the p-value\n",
    "# Output: sorted list of strings according to the rules above\n",
    "\n",
    "def sorting_function(input_string):\n",
    "    my_list = input_string\n",
    "    my_list = sorted(my_list, key = lambda x : dictionary[x.split(\",\")[0]])  \n",
    "    my_list = sorted(my_list, key = lambda x : float(x.split(\",\")[1].split(\"=\")[-1]), reverse = True) \n",
    "    return my_list"
   ]
  },
  {
   "cell_type": "markdown",
   "id": "c9b9fcff",
   "metadata": {},
   "source": [
    "## Case 2 repeats\n",
    "\n",
    "General format of case 2 repeat files: case_2_experiment_x_repeat_xxxx.npz\n",
    "\n",
    "Case 2 experiments 1-8, repeats 0000 to 0999 → 8 * 1000 = 8000 files"
   ]
  },
  {
   "cell_type": "markdown",
   "id": "10203076",
   "metadata": {},
   "source": [
    "### Case 2: Obtaining a list of file names"
   ]
  },
  {
   "cell_type": "code",
   "execution_count": 3,
   "id": "d347aca3",
   "metadata": {},
   "outputs": [
    {
     "data": {
      "text/plain": [
       "(['fwer_experiments/case_2_experiment_1_repeat_0000.npz',\n",
       "  'fwer_experiments/case_2_experiment_1_repeat_0001.npz',\n",
       "  'fwer_experiments/case_2_experiment_1_repeat_0002.npz',\n",
       "  'fwer_experiments/case_2_experiment_1_repeat_0003.npz'],\n",
       " ['fwer_experiments/case_2_experiment_8_repeat_0996.npz',\n",
       "  'fwer_experiments/case_2_experiment_8_repeat_0997.npz',\n",
       "  'fwer_experiments/case_2_experiment_8_repeat_0998.npz',\n",
       "  'fwer_experiments/case_2_experiment_8_repeat_0999.npz'])"
      ]
     },
     "execution_count": 3,
     "metadata": {},
     "output_type": "execute_result"
    }
   ],
   "source": [
    "case_2 = []\n",
    "\n",
    "for i in range(1, 9):\n",
    "    for j in range(0, 1000):\n",
    "        if j < 10:\n",
    "            string = \"fwer_experiments/case_2_experiment_\" + str(i) + \"_repeat_\" + \"000\" + str(j) + \".npz\"\n",
    "        elif j < 100:\n",
    "            string = \"fwer_experiments/case_2_experiment_\" + str(i) + \"_repeat_\" + \"00\" + str(j) + \".npz\"\n",
    "        else:\n",
    "            string = \"fwer_experiments/case_2_experiment_\" + str(i) + \"_repeat_\" + \"0\" + str(j) + \".npz\"\n",
    "        case_2.append(string)\n",
    "\n",
    "case_2[0:4], case_2[7996:8001]"
   ]
  },
  {
   "cell_type": "markdown",
   "id": "3a9dcbbe",
   "metadata": {},
   "source": [
    "### Case 2 experiment 1: Calculating the false negatives rate\n",
    "\n",
    "Case 2: left hippocampus is affected\n",
    "\n",
    "Experiment 1: clip the probabilities at 0.999 and 0.001 (original)"
   ]
  },
  {
   "cell_type": "code",
   "execution_count": 4,
   "id": "e8cb5609",
   "metadata": {},
   "outputs": [
    {
     "name": "stdout",
     "output_type": "stream",
     "text": [
      "Everything: 0.010000000000000009\n",
      "Telencephalon: 0.010000000000000009\n",
      "Cerebral cortex: 0.010000000000000009\n",
      "Limbic system: 0.010000000000000009\n",
      "Hippocampus level 2: 0.010000000000000009\n",
      "Hippocampus level 1: 0.010000000000000009\n"
     ]
    }
   ],
   "source": [
    "count_everything = 0\n",
    "count_telencephalon = 0\n",
    "count_cerebral_cortex = 0\n",
    "count_limbic = 0\n",
    "count_hippo2 = 0\n",
    "count_hippo1 = 0\n",
    "\n",
    "for i in range(0, 1000): # For each of the 1000 case 2 experiment 1 files...\n",
    "    reject_p = np.array([0, 0, 0, 0, 0, 0, 0, 0]) # For each repeat, assume no structures are affected (null hypothesis)\n",
    "    file = np.load(case_2[i]) # Load the file\n",
    "    file = file[\"arr_0\"] # Values corresponding to the key\n",
    "    file = sorting_function(file)\n",
    "    \n",
    "    for j in range(0, 7): # For each structure in each repeat...\n",
    "        p = file[j].find(\"p=\") # Index of \"p\" in the string\n",
    "        pval = float(file[j][p::][2::]) # Extract the p-value\n",
    "        if pval < 0.05: # If the p-value is < 0.05...\n",
    "            reject_p[j] = 1\n",
    "        else:\n",
    "            break\n",
    "    \n",
    "    for r, s in zip(reject_p, file):\n",
    "        if \"Everything\" in s and r: # If \"Everything\" is in the string and we decided to reject H0...\n",
    "            count_everything += 1\n",
    "        elif \"Telencephalon\" in s and r: # If \"Telencephalon\" is in the string and we decided to reject H0...\n",
    "            count_telencephalon += 1\n",
    "        elif \"CerebralCortex\" in s and r: # If \"CerebralCortex\" is in the string and we decided to reject H0...\n",
    "            count_cerebral_cortex += 1\n",
    "        elif \"Limbic\" in s and r: # If \"Limbic\" is in the string and we decided to reject H0...\n",
    "            count_limbic += 1\n",
    "        elif \"Hippo_L_338_2\" in s and r: # If \"Hippo_L_338_2\" is in the string and we decided to reject H0...\n",
    "            count_hippo2 += 1\n",
    "        elif \"Hippo_L_75_1\" in s and r: # If \"Hippo_L_75_1\" is in the string and we decided to reject H0...\n",
    "            count_hippo1 += 1\n",
    "        elif not r: # As soon as we fail to reject one structure, stop\n",
    "            break\n",
    "\n",
    "\n",
    "print(\"Everything:\", 1 - count_everything / 1000)\n",
    "print(\"Telencephalon:\", 1 - count_telencephalon / 1000)\n",
    "print(\"Cerebral cortex:\", 1 - count_cerebral_cortex / 1000)\n",
    "print(\"Limbic system:\", 1 - count_limbic / 1000)\n",
    "print(\"Hippocampus level 2:\", 1 - count_hippo2 / 1000)\n",
    "print(\"Hippocampus level 1:\", 1 - count_hippo1 / 1000)"
   ]
  },
  {
   "cell_type": "markdown",
   "id": "d81461df",
   "metadata": {},
   "source": [
    "### Case 2 experiment 2: Calculating the false positives rate\n",
    "\n",
    "Case 2: left hippocampus is affected\n",
    "\n",
    "Experiment 2: clip the probabilities at 0.9999 and 0.0001"
   ]
  },
  {
   "cell_type": "code",
   "execution_count": 5,
   "id": "64534aad",
   "metadata": {},
   "outputs": [
    {
     "name": "stdout",
     "output_type": "stream",
     "text": [
      "Everything: 0.01200000000000001\n",
      "Telencephalon: 0.01200000000000001\n",
      "Cerebral cortex: 0.01200000000000001\n",
      "Limbic system: 0.01200000000000001\n",
      "Hippocampus level 2: 0.01200000000000001\n",
      "Hippocampus level 1: 0.01200000000000001\n"
     ]
    }
   ],
   "source": [
    "count_everything = 0\n",
    "count_telencephalon = 0\n",
    "count_cerebral_cortex = 0\n",
    "count_limbic = 0\n",
    "count_hippo2 = 0\n",
    "count_hippo1 = 0\n",
    "\n",
    "for i in range(1000, 2000): # For each of the 100 case 2 experiment 2 files...\n",
    "    reject_p = np.array([0, 0, 0, 0, 0, 0, 0, 0]) # For each repeat, assume no structures are affected (null hypothesis)\n",
    "    file = np.load(case_2[i]) # Load the file\n",
    "    file = file[\"arr_0\"] # Values corresponding to the key\n",
    "    file = sorting_function(file)\n",
    "    \n",
    "    for j in range(0, 7): # For each structure in each repeat...\n",
    "        p = file[j].find(\"p=\") # Index of \"p\" in the string\n",
    "        pval = float(file[j][p::][2::]) # Extract the p-value\n",
    "        if pval < 0.05: # If the p-value is < 0.05...\n",
    "            reject_p[j] = 1\n",
    "        else:\n",
    "            break\n",
    "    \n",
    "    for r, s in zip(reject_p, file):\n",
    "        if \"Everything\" in s and r: # If \"Everything\" is in the string and we decided to reject H0...\n",
    "            count_everything += 1\n",
    "        elif \"Telencephalon\" in s and r: # If \"Telencephalon\" is in the string and we decided to reject H0...\n",
    "            count_telencephalon += 1\n",
    "        elif \"CerebralCortex\" in s and r: # If \"CerebralCortex\" is in the string and we decided to reject H0...\n",
    "            count_cerebral_cortex += 1\n",
    "        elif \"Limbic\" in s and r: # If \"Limbic\" is in the string and we decided to reject H0...\n",
    "            count_limbic += 1\n",
    "        elif \"Hippo_L_338_2\" in s and r: # If \"Hippo_L_338_2\" is in the string and we decided to reject H0...\n",
    "            count_hippo2 += 1\n",
    "        elif \"Hippo_L_75_1\" in s and r: # If \"Hippo_L_75_1\" is in the string and we decided to reject H0...\n",
    "            count_hippo1 += 1\n",
    "        elif not r: # As soon as we fail to reject one structure, stop\n",
    "            break\n",
    "\n",
    "\n",
    "print(\"Everything:\", 1 - count_everything / 1000)\n",
    "print(\"Telencephalon:\", 1 - count_telencephalon / 1000)\n",
    "print(\"Cerebral cortex:\", 1 - count_cerebral_cortex / 1000)\n",
    "print(\"Limbic system:\", 1 - count_limbic / 1000)\n",
    "print(\"Hippocampus level 2:\", 1 - count_hippo2 / 1000)\n",
    "print(\"Hippocampus level 1:\", 1 - count_hippo1 / 1000)"
   ]
  },
  {
   "cell_type": "markdown",
   "id": "26abae35",
   "metadata": {},
   "source": [
    "### Case 2 experiment 3: Calculating the false positives rate\n",
    "\n",
    "Case 2: left hippocampus is affected\n",
    "\n",
    "Experiment 3: run 20 iterations of the EM algorithm (original)"
   ]
  },
  {
   "cell_type": "code",
   "execution_count": 6,
   "id": "d3db98e7",
   "metadata": {},
   "outputs": [
    {
     "name": "stdout",
     "output_type": "stream",
     "text": [
      "Everything: 0.007000000000000006\n",
      "Telencephalon: 0.007000000000000006\n",
      "Cerebral cortex: 0.007000000000000006\n",
      "Limbic system: 0.007000000000000006\n",
      "Hippocampus level 2: 0.007000000000000006\n",
      "Hippocampus level 1: 0.007000000000000006\n"
     ]
    }
   ],
   "source": [
    "count_everything = 0\n",
    "count_telencephalon = 0\n",
    "count_cerebral_cortex = 0\n",
    "count_limbic = 0\n",
    "count_hippo2 = 0\n",
    "count_hippo1 = 0\n",
    "\n",
    "for i in range(2000, 3000): # For each of the 100 case 2 experiment 3 files...\n",
    "    reject_p = np.array([0, 0, 0, 0, 0, 0, 0, 0]) # For each repeat, assume no structures are affected (null hypothesis)\n",
    "    file = np.load(case_2[i]) # Load the file\n",
    "    file = file[\"arr_0\"] # Values corresponding to the key\n",
    "    file = sorting_function(file)\n",
    "    \n",
    "    for j in range(0, 7): # For the last two structures (left amygdala levels 1 and 2) in each repeat...\n",
    "        p = file[j].find(\"p=\") # Index of \"p\" in the string\n",
    "        pval = float(file[j][p::][2::]) # Extract the p-value\n",
    "        if pval < 0.05: # If the p-value is < 0.05...\n",
    "            reject_p[j] = 1\n",
    "        else:\n",
    "            break\n",
    "    \n",
    "    for r, s in zip(reject_p, file):\n",
    "        if \"Everything\" in s and r: # If \"Everything\" is in the string and we decided to reject H0...\n",
    "            count_everything += 1\n",
    "        elif \"Telencephalon\" in s and r: # If \"Telencephalon\" is in the string and we decided to reject H0...\n",
    "            count_telencephalon += 1\n",
    "        elif \"CerebralCortex\" in s and r: # If \"CerebralCortex\" is in the string and we decided to reject H0...\n",
    "            count_cerebral_cortex += 1\n",
    "        elif \"Limbic\" in s and r: # If \"Limbic\" is in the string and we decided to reject H0...\n",
    "            count_limbic += 1\n",
    "        elif \"Hippo_L_338_2\" in s and r: # If \"Hippo_L_338_2\" is in the string and we decided to reject H0...\n",
    "            count_hippo2 += 1\n",
    "        elif \"Hippo_L_75_1\" in s and r: # If \"Hippo_L_75_1\" is in the string and we decided to reject H0...\n",
    "            count_hippo1 += 1\n",
    "        elif not r: # As soon as we fail to reject one structure, stop\n",
    "            break\n",
    "\n",
    "\n",
    "print(\"Everything:\", 1 - count_everything / 1000)\n",
    "print(\"Telencephalon:\", 1 - count_telencephalon / 1000)\n",
    "print(\"Cerebral cortex:\", 1 - count_cerebral_cortex / 1000)\n",
    "print(\"Limbic system:\", 1 - count_limbic / 1000)\n",
    "print(\"Hippocampus level 2:\", 1 - count_hippo2 / 1000)\n",
    "print(\"Hippocampus level 1:\", 1 - count_hippo1 / 1000)"
   ]
  },
  {
   "cell_type": "markdown",
   "id": "55c2d97c",
   "metadata": {},
   "source": [
    "### Case 2 experiment 4: Calculating the false positives rate\n",
    "\n",
    "Case 2: left hippocampus is affected\n",
    "\n",
    "Experiment 4: run 50 iterations of the EM algorithm"
   ]
  },
  {
   "cell_type": "code",
   "execution_count": 7,
   "id": "790377c3",
   "metadata": {},
   "outputs": [
    {
     "name": "stdout",
     "output_type": "stream",
     "text": [
      "Everything: 0.016000000000000014\n",
      "Telencephalon: 0.016000000000000014\n",
      "Cerebral cortex: 0.016000000000000014\n",
      "Limbic system: 0.016000000000000014\n",
      "Hippocampus level 2: 0.016000000000000014\n",
      "Hippocampus level 1: 0.016000000000000014\n"
     ]
    }
   ],
   "source": [
    "count_everything = 0\n",
    "count_telencephalon = 0\n",
    "count_cerebral_cortex = 0\n",
    "count_limbic = 0\n",
    "count_hippo2 = 0\n",
    "count_hippo1 = 0\n",
    "\n",
    "for i in range(3000, 4000): # For each of the 1000 case 2 experiment 4 files...\n",
    "    reject_p = np.array([0, 0, 0, 0, 0, 0, 0, 0]) # For each repeat, assume no structures are affected (null hypothesis)\n",
    "    file = np.load(case_2[i]) # Load the file\n",
    "    file = file[\"arr_0\"] # Values corresponding to the key\n",
    "    file = sorting_function(file)\n",
    "    \n",
    "    for j in range(0, 7): # For each structure in each repeat...\n",
    "        p = file[j].find(\"p=\") # Index of \"p\" in the string\n",
    "        pval = float(file[j][p::][2::]) # Extract the p-value\n",
    "        if pval < 0.05: # If the p-value is < 0.05...\n",
    "            reject_p[j] = 1\n",
    "        else:\n",
    "            break\n",
    "    \n",
    "    for r, s in zip(reject_p, file):\n",
    "        if \"Everything\" in s and r: # If \"Everything\" is in the string and we decided to reject H0...\n",
    "            count_everything += 1\n",
    "        elif \"Telencephalon\" in s and r: # If \"Telencephalon\" is in the string and we decided to reject H0...\n",
    "            count_telencephalon += 1\n",
    "        elif \"CerebralCortex\" in s and r: # If \"CerebralCortex\" is in the string and we decided to reject H0...\n",
    "            count_cerebral_cortex += 1\n",
    "        elif \"Limbic\" in s and r: # If \"Limbic\" is in the string and we decided to reject H0...\n",
    "            count_limbic += 1\n",
    "        elif \"Hippo_L_338_2\" in s and r: # If \"Hippo_L_338_2\" is in the string and we decided to reject H0...\n",
    "            count_hippo2 += 1\n",
    "        elif \"Hippo_L_75_1\" in s and r: # If \"Hippo_L_75_1\" is in the string and we decided to reject H0...\n",
    "            count_hippo1 += 1\n",
    "        elif not r: # As soon as we fail to reject one structure, stop\n",
    "            break\n",
    "\n",
    "\n",
    "print(\"Everything:\", 1 - count_everything / 1000)\n",
    "print(\"Telencephalon:\", 1 - count_telencephalon / 1000)\n",
    "print(\"Cerebral cortex:\", 1 - count_cerebral_cortex / 1000)\n",
    "print(\"Limbic system:\", 1 - count_limbic / 1000)\n",
    "print(\"Hippocampus level 2:\", 1 - count_hippo2 / 1000)\n",
    "print(\"Hippocampus level 1:\", 1 - count_hippo1 / 1000)"
   ]
  },
  {
   "cell_type": "markdown",
   "id": "c3ac1d73",
   "metadata": {},
   "source": [
    "### Case 2 experiment 5: Calculating the false positives rate\n",
    "\n",
    "Case 2: left hippocampus is affected\n",
    "\n",
    "Experiment 5: run 100 iterations of the EM algorithm"
   ]
  },
  {
   "cell_type": "code",
   "execution_count": 8,
   "id": "7c6c4d9a",
   "metadata": {},
   "outputs": [
    {
     "name": "stdout",
     "output_type": "stream",
     "text": [
      "Everything: 0.015000000000000013\n",
      "Telencephalon: 0.015000000000000013\n",
      "Cerebral cortex: 0.015000000000000013\n",
      "Limbic system: 0.015000000000000013\n",
      "Hippocampus level 2: 0.015000000000000013\n",
      "Hippocampus level 1: 0.015000000000000013\n"
     ]
    }
   ],
   "source": [
    "count_everything = 0\n",
    "count_telencephalon = 0\n",
    "count_cerebral_cortex = 0\n",
    "count_limbic = 0\n",
    "count_hippo2 = 0\n",
    "count_hippo1 = 0\n",
    "\n",
    "for i in range(4000, 5000): # For each of the 1000 case 2 experiment 5 files...\n",
    "    reject_p = np.array([0, 0, 0, 0, 0, 0, 0, 0]) # For each repeat, assume no structures are affected (null hypothesis)\n",
    "    file = np.load(case_2[i]) # Load the file\n",
    "    file = file[\"arr_0\"] # Values corresponding to the key\n",
    "    file = sorting_function(file)\n",
    "    \n",
    "    for j in range(0, 7): # For each structure in each repeat...\n",
    "        p = file[j].find(\"p=\") # Index of \"p\" in the string\n",
    "        pval = float(file[j][p::][2::]) # Extract the p-value\n",
    "        if pval < 0.05: # If the p-value is < 0.05...\n",
    "            reject_p[j] = 1\n",
    "        else:\n",
    "            break\n",
    "    \n",
    "    for r, s in zip(reject_p, file):\n",
    "        if \"Everything\" in s and r: # If \"Everything\" is in the string and we decided to reject H0...\n",
    "            count_everything += 1\n",
    "        elif \"Telencephalon\" in s and r: # If \"Telencephalon\" is in the string and we decided to reject H0...\n",
    "            count_telencephalon += 1\n",
    "        elif \"CerebralCortex\" in s and r: # If \"CerebralCortex\" is in the string and we decided to reject H0...\n",
    "            count_cerebral_cortex += 1\n",
    "        elif \"Limbic\" in s and r: # If \"Limbic\" is in the string and we decided to reject H0...\n",
    "            count_limbic += 1\n",
    "        elif \"Hippo_L_338_2\" in s and r: # If \"Hippo_L_338_2\" is in the string and we decided to reject H0...\n",
    "            count_hippo2 += 1\n",
    "        elif \"Hippo_L_75_1\" in s and r: # If \"Hippo_L_75_1\" is in the string and we decided to reject H0...\n",
    "            count_hippo1 += 1\n",
    "        elif not r: # As soon as we fail to reject one structure, stop\n",
    "            break\n",
    "\n",
    "\n",
    "print(\"Everything:\", 1 - count_everything / 1000)\n",
    "print(\"Telencephalon:\", 1 - count_telencephalon / 1000)\n",
    "print(\"Cerebral cortex:\", 1 - count_cerebral_cortex / 1000)\n",
    "print(\"Limbic system:\", 1 - count_limbic / 1000)\n",
    "print(\"Hippocampus level 2:\", 1 - count_hippo2 / 1000)\n",
    "print(\"Hippocampus level 1:\", 1 - count_hippo1 / 1000)"
   ]
  },
  {
   "cell_type": "markdown",
   "id": "ebac01e3",
   "metadata": {},
   "source": [
    "### Case 2 experiment 6: Calculating the false positives rate\n",
    "\n",
    "Case 2: left hippocampus is affected\n",
    "\n",
    "Experiment 6: initial probabilities are 0.5 (original)"
   ]
  },
  {
   "cell_type": "code",
   "execution_count": 9,
   "id": "f483a07a",
   "metadata": {},
   "outputs": [
    {
     "name": "stdout",
     "output_type": "stream",
     "text": [
      "Everything: 0.01200000000000001\n",
      "Telencephalon: 0.01200000000000001\n",
      "Cerebral cortex: 0.01200000000000001\n",
      "Limbic system: 0.01200000000000001\n",
      "Hippocampus level 2: 0.01200000000000001\n",
      "Hippocampus level 1: 0.01200000000000001\n"
     ]
    }
   ],
   "source": [
    "count_everything = 0\n",
    "count_telencephalon = 0\n",
    "count_cerebral_cortex = 0\n",
    "count_limbic = 0\n",
    "count_hippo2 = 0\n",
    "count_hippo1 = 0\n",
    "\n",
    "for i in range(5000, 6000): # For each of the 1000 case 2 experiment 6 files...\n",
    "    reject_p = np.array([0, 0, 0, 0, 0, 0, 0, 0]) # For each repeat, assume no structures are affected (null hypothesis)\n",
    "    file = np.load(case_2[i]) # Load the file\n",
    "    file = file[\"arr_0\"] # Values corresponding to the key\n",
    "    file = sorting_function(file)\n",
    "    \n",
    "    for j in range(0, 7): # For each structure in each repeat...\n",
    "        p = file[j].find(\"p=\") # Index of \"p\" in the string\n",
    "        pval = float(file[j][p::][2::]) # Extract the p-value\n",
    "        if pval < 0.05: # If the p-value is < 0.05...\n",
    "            reject_p[j] = 1\n",
    "        else:\n",
    "            break\n",
    "    \n",
    "    for r, s in zip(reject_p, file):\n",
    "        if \"Everything\" in s and r: # If \"Everything\" is in the string and we decided to reject H0...\n",
    "            count_everything += 1\n",
    "        elif \"Telencephalon\" in s and r: # If \"Telencephalon\" is in the string and we decided to reject H0...\n",
    "            count_telencephalon += 1\n",
    "        elif \"CerebralCortex\" in s and r: # If \"CerebralCortex\" is in the string and we decided to reject H0...\n",
    "            count_cerebral_cortex += 1\n",
    "        elif \"Limbic\" in s and r: # If \"Limbic\" is in the string and we decided to reject H0...\n",
    "            count_limbic += 1\n",
    "        elif \"Hippo_L_338_2\" in s and r: # If \"Hippo_L_338_2\" is in the string and we decided to reject H0...\n",
    "            count_hippo2 += 1\n",
    "        elif \"Hippo_L_75_1\" in s and r: # If \"Hippo_L_75_1\" is in the string and we decided to reject H0...\n",
    "            count_hippo1 += 1\n",
    "        elif not r: # As soon as we fail to reject one structure, stop\n",
    "            break\n",
    "\n",
    "\n",
    "print(\"Everything:\", 1 - count_everything / 1000)\n",
    "print(\"Telencephalon:\", 1 - count_telencephalon / 1000)\n",
    "print(\"Cerebral cortex:\", 1 - count_cerebral_cortex / 1000)\n",
    "print(\"Limbic system:\", 1 - count_limbic / 1000)\n",
    "print(\"Hippocampus level 2:\", 1 - count_hippo2 / 1000)\n",
    "print(\"Hippocampus level 1:\", 1 - count_hippo1 / 1000)"
   ]
  },
  {
   "cell_type": "markdown",
   "id": "d17471e9",
   "metadata": {},
   "source": [
    "### Case 2 experiment 7: Calculating the false positives rate\n",
    "\n",
    "Case 2: left hippocampus is affected\n",
    "\n",
    "Experiment 7: initial probabilities are 0.25"
   ]
  },
  {
   "cell_type": "code",
   "execution_count": 10,
   "id": "ff9bebd2",
   "metadata": {},
   "outputs": [
    {
     "name": "stdout",
     "output_type": "stream",
     "text": [
      "Everything: 0.009000000000000008\n",
      "Telencephalon: 0.009000000000000008\n",
      "Cerebral cortex: 0.009000000000000008\n",
      "Limbic system: 0.009000000000000008\n",
      "Hippocampus level 2: 0.009000000000000008\n",
      "Hippocampus level 1: 0.009000000000000008\n"
     ]
    }
   ],
   "source": [
    "count_everything = 0\n",
    "count_telencephalon = 0\n",
    "count_cerebral_cortex = 0\n",
    "count_limbic = 0\n",
    "count_hippo2 = 0\n",
    "count_hippo1 = 0\n",
    "\n",
    "for i in range(6000, 7000): # For each of the 1000 case 2 experiment 7 files...\n",
    "    reject_p = np.array([0, 0, 0, 0, 0, 0, 0, 0]) # For each repeat, assume no structures are affected (null hypothesis)\n",
    "    file = np.load(case_2[i]) # Load the file\n",
    "    file = file[\"arr_0\"] # Values corresponding to the key\n",
    "    file = sorting_function(file)\n",
    "    \n",
    "    for j in range(0, 7): # For each structure in each repeat...\n",
    "        p = file[j].find(\"p=\") # Index of \"p\" in the string\n",
    "        pval = float(file[j][p::][2::]) # Extract the p-value\n",
    "        if pval < 0.05: # If the p-value is < 0.05...\n",
    "            reject_p[j] = 1\n",
    "        else:\n",
    "            break\n",
    "    \n",
    "    for r, s in zip(reject_p, file):\n",
    "        if \"Everything\" in s and r: # If \"Everything\" is in the string and we decided to reject H0...\n",
    "            count_everything += 1\n",
    "        elif \"Telencephalon\" in s and r: # If \"Telencephalon\" is in the string and we decided to reject H0...\n",
    "            count_telencephalon += 1\n",
    "        elif \"CerebralCortex\" in s and r: # If \"CerebralCortex\" is in the string and we decided to reject H0...\n",
    "            count_cerebral_cortex += 1\n",
    "        elif \"Limbic\" in s and r: # If \"Limbic\" is in the string and we decided to reject H0...\n",
    "            count_limbic += 1\n",
    "        elif \"Hippo_L_338_2\" in s and r: # If \"Hippo_L_338_2\" is in the string and we decided to reject H0...\n",
    "            count_hippo2 += 1\n",
    "        elif \"Hippo_L_75_1\" in s and r: # If \"Hippo_L_75_1\" is in the string and we decided to reject H0...\n",
    "            count_hippo1 += 1\n",
    "        elif not r: # As soon as we fail to reject one structure, stop\n",
    "            break\n",
    "\n",
    "\n",
    "print(\"Everything:\", 1 - count_everything / 1000)\n",
    "print(\"Telencephalon:\", 1 - count_telencephalon / 1000)\n",
    "print(\"Cerebral cortex:\", 1 - count_cerebral_cortex / 1000)\n",
    "print(\"Limbic system:\", 1 - count_limbic / 1000)\n",
    "print(\"Hippocampus level 2:\", 1 - count_hippo2 / 1000)\n",
    "print(\"Hippocampus level 1:\", 1 - count_hippo1 / 1000)"
   ]
  },
  {
   "cell_type": "markdown",
   "id": "a49a41df",
   "metadata": {},
   "source": [
    "### Case 2 experiment 8: Calculating the false positives rate\n",
    "\n",
    "Case 2: left hippocampus is affected\n",
    "\n",
    "Experiment 8: initial probabilities are 0.75"
   ]
  },
  {
   "cell_type": "code",
   "execution_count": 11,
   "id": "44f2fee0",
   "metadata": {},
   "outputs": [
    {
     "name": "stdout",
     "output_type": "stream",
     "text": [
      "Everything: 0.01200000000000001\n",
      "Telencephalon: 0.01200000000000001\n",
      "Cerebral cortex: 0.01200000000000001\n",
      "Limbic system: 0.01200000000000001\n",
      "Hippocampus level 2: 0.01200000000000001\n",
      "Hippocampus level 1: 0.01200000000000001\n"
     ]
    }
   ],
   "source": [
    "count_everything = 0\n",
    "count_telencephalon = 0\n",
    "count_cerebral_cortex = 0\n",
    "count_limbic = 0\n",
    "count_hippo2 = 0\n",
    "count_hippo1 = 0\n",
    "\n",
    "for i in range(7000, 8000): # For each of the 1000 case 2 experiment 8 files...\n",
    "    reject_p = np.array([0, 0, 0, 0, 0, 0, 0, 0]) # For each repeat, assume no structures are affected (null hypothesis)\n",
    "    file = np.load(case_2[i]) # Load the file\n",
    "    file = file[\"arr_0\"] # Values corresponding to the key\n",
    "    file = sorting_function(file)\n",
    "    \n",
    "    for j in range(0, 7): # For each structure in each repeat...\n",
    "        p = file[j].find(\"p=\") # Index of \"p\" in the string\n",
    "        pval = float(file[j][p::][2::]) # Extract the p-value\n",
    "        if pval < 0.05: # If the p-value is < 0.05...\n",
    "            reject_p[j] = 1\n",
    "        else:\n",
    "            break\n",
    "    \n",
    "    for r, s in zip(reject_p, file):\n",
    "        if \"Everything\" in s and r: # If \"Everything\" is in the string and we decided to reject H0...\n",
    "            count_everything += 1\n",
    "        elif \"Telencephalon\" in s and r: # If \"Telencephalon\" is in the string and we decided to reject H0...\n",
    "            count_telencephalon += 1\n",
    "        elif \"CerebralCortex\" in s and r: # If \"CerebralCortex\" is in the string and we decided to reject H0...\n",
    "            count_cerebral_cortex += 1\n",
    "        elif \"Limbic\" in s and r: # If \"Limbic\" is in the string and we decided to reject H0...\n",
    "            count_limbic += 1\n",
    "        elif \"Hippo_L_338_2\" in s and r: # If \"Hippo_L_338_2\" is in the string and we decided to reject H0...\n",
    "            count_hippo2 += 1\n",
    "        elif \"Hippo_L_75_1\" in s and r: # If \"Hippo_L_75_1\" is in the string and we decided to reject H0...\n",
    "            count_hippo1 += 1\n",
    "        elif not r: # As soon as we fail to reject one structure, stop\n",
    "            break\n",
    "\n",
    "\n",
    "print(\"Everything:\", 1 - count_everything / 1000)\n",
    "print(\"Telencephalon:\", 1 - count_telencephalon / 1000)\n",
    "print(\"Cerebral cortex:\", 1 - count_cerebral_cortex / 1000)\n",
    "print(\"Limbic system:\", 1 - count_limbic / 1000)\n",
    "print(\"Hippocampus level 2:\", 1 - count_hippo2 / 1000)\n",
    "print(\"Hippocampus level 1:\", 1 - count_hippo1 / 1000)"
   ]
  },
  {
   "cell_type": "markdown",
   "id": "29dc556a",
   "metadata": {},
   "source": [
    "## Case 3 repeats\n",
    "\n",
    "General format of case 3 repeat files: case_3_experiment_x_repeat_xxxx.npz\n",
    "\n",
    "Case 3 experiments 1-8, repeats 0000 to 0999 → 8 * 1000 = 8000 files"
   ]
  },
  {
   "cell_type": "code",
   "execution_count": 13,
   "id": "1c7cbd19",
   "metadata": {},
   "outputs": [
    {
     "data": {
      "text/plain": [
       "(['fwer_experiments/case_3_experiment_1_repeat_0000.npz',\n",
       "  'fwer_experiments/case_3_experiment_1_repeat_0001.npz',\n",
       "  'fwer_experiments/case_3_experiment_1_repeat_0002.npz',\n",
       "  'fwer_experiments/case_3_experiment_1_repeat_0003.npz'],\n",
       " ['fwer_experiments/case_3_experiment_8_repeat_0996.npz',\n",
       "  'fwer_experiments/case_3_experiment_8_repeat_0997.npz',\n",
       "  'fwer_experiments/case_3_experiment_8_repeat_0998.npz',\n",
       "  'fwer_experiments/case_3_experiment_8_repeat_0999.npz'])"
      ]
     },
     "execution_count": 13,
     "metadata": {},
     "output_type": "execute_result"
    }
   ],
   "source": [
    "case_3 = []\n",
    "\n",
    "for i in range(1, 9):\n",
    "    for j in range(0, 1000):\n",
    "        if j < 10:\n",
    "            string = \"fwer_experiments/case_3_experiment_\" + str(i) + \"_repeat_\" + \"000\" + str(j) + \".npz\"\n",
    "        elif j < 100:\n",
    "            string = \"fwer_experiments/case_3_experiment_\" + str(i) + \"_repeat_\" + \"00\" + str(j) + \".npz\"\n",
    "        else:\n",
    "            string = \"fwer_experiments/case_3_experiment_\" + str(i) + \"_repeat_\" + \"0\" + str(j) + \".npz\"\n",
    "        case_3.append(string)\n",
    "\n",
    "case_3[0:4], case_3[7996:8001]"
   ]
  },
  {
   "cell_type": "markdown",
   "id": "663f2d14",
   "metadata": {},
   "source": [
    "### Case 3 experiment 1: Calculating the false negatives rate\n",
    "\n",
    "Case 3: both are affected\n",
    "\n",
    "Experiment 1: clip the probabilities at 0.999 and 0.001 (original)"
   ]
  },
  {
   "cell_type": "code",
   "execution_count": 16,
   "id": "a4bea7c8",
   "metadata": {},
   "outputs": [
    {
     "name": "stdout",
     "output_type": "stream",
     "text": [
      "Everything: 0.010000000000000009\n",
      "Telencephalon: 0.010000000000000009\n",
      "Cerebral cortex: 0.010000000000000009\n",
      "Limbic system: 0.010000000000000009\n",
      "Hippocampus level 2: 0.010000000000000009\n",
      "Hippocampus level 1: 0.010000000000000009\n",
      "Amygdala level 2: 0.943\n",
      "Amygdala level 1: 1.0\n"
     ]
    }
   ],
   "source": [
    "count_everything = 0\n",
    "count_telencephalon = 0\n",
    "count_cerebral_cortex = 0\n",
    "count_limbic = 0\n",
    "count_hippo2 = 0\n",
    "count_hippo1 = 0\n",
    "count_amyg2 = 0\n",
    "count_amyg1 = 0\n",
    "\n",
    "for i in range(0, 1000): # For each of the 1000 case 3 experiment 1 files...\n",
    "    reject_p = np.array([0, 0, 0, 0, 0, 0, 0, 0]) # For each repeat, assume no structures are affected (null hypothesis)\n",
    "    file = np.load(case_2[i]) # Load the file\n",
    "    file = file[\"arr_0\"] # Values corresponding to the key\n",
    "    file = sorting_function(file)\n",
    "    \n",
    "    for j in range(0, 7): # For each structure in each repeat...\n",
    "        p = file[j].find(\"p=\") # Index of \"p\" in the string\n",
    "        pval = float(file[j][p::][2::]) # Extract the p-value\n",
    "        if pval < 0.05: # If the p-value is < 0.05...\n",
    "            reject_p[j] = 1\n",
    "        else:\n",
    "            break\n",
    "    \n",
    "    for r, s in zip(reject_p, file):\n",
    "        if \"Everything\" in s and r: # If \"Everything\" is in the string and we decided to reject H0...\n",
    "            count_everything += 1\n",
    "        elif \"Telencephalon\" in s and r: # If \"Telencephalon\" is in the string and we decided to reject H0...\n",
    "            count_telencephalon += 1\n",
    "        elif \"CerebralCortex\" in s and r: # If \"CerebralCortex\" is in the string and we decided to reject H0...\n",
    "            count_cerebral_cortex += 1\n",
    "        elif \"Limbic\" in s and r: # If \"Limbic\" is in the string and we decided to reject H0...\n",
    "            count_limbic += 1\n",
    "        elif \"Hippo_L_338_2\" in s and r: # If \"Hippo_L_338_2\" is in the string and we decided to reject H0...\n",
    "            count_hippo2 += 1\n",
    "        elif \"Hippo_L_75_1\" in s and r: # If \"Hippo_L_75_1\" is in the string and we decided to reject H0...\n",
    "            count_hippo1 += 1\n",
    "        elif \"Amyg_L_336_2\" in s and r: # If \"Amyg_L_336_2\" is in the string and we decided to reject H0...\n",
    "            count_amyg2 += 1\n",
    "        elif \"Amyg_L_73_1\" in s and r: # If \"Amyg_L_73_1\" is in the string and we decided to reject H0...\n",
    "            count_amyg1 += 1\n",
    "        elif not r: # As soon as we fail to reject one structure, stop\n",
    "            break\n",
    "\n",
    "print(\"Everything:\", 1 - count_everything / 1000)\n",
    "print(\"Telencephalon:\", 1 - count_telencephalon / 1000)\n",
    "print(\"Cerebral cortex:\", 1 - count_cerebral_cortex / 1000)\n",
    "print(\"Limbic system:\", 1 - count_limbic / 1000)\n",
    "print(\"Hippocampus level 2:\", 1 - count_hippo2 / 1000)\n",
    "print(\"Hippocampus level 1:\", 1 - count_hippo1 / 1000)\n",
    "print(\"Amygdala level 2:\", 1 - count_amyg2 / 1000)\n",
    "print(\"Amygdala level 1:\", 1 - count_amyg1 / 1000)"
   ]
  },
  {
   "cell_type": "code",
   "execution_count": null,
   "id": "ddb3fcc2",
   "metadata": {},
   "outputs": [],
   "source": []
  }
 ],
 "metadata": {
  "kernelspec": {
   "display_name": "Python 3 (ipykernel)",
   "language": "python",
   "name": "python3"
  },
  "language_info": {
   "codemirror_mode": {
    "name": "ipython",
    "version": 3
   },
   "file_extension": ".py",
   "mimetype": "text/x-python",
   "name": "python",
   "nbconvert_exporter": "python",
   "pygments_lexer": "ipython3",
   "version": "3.8.8"
  }
 },
 "nbformat": 4,
 "nbformat_minor": 5
}
