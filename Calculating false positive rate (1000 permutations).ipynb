{
 "cells": [
  {
   "cell_type": "markdown",
   "id": "bb456d0d",
   "metadata": {},
   "source": [
    "## Logic for calculating the false positive rate\n",
    "\n",
    "#### Case 1 repeats (8 experiments, 1000 repeats each):\n",
    "\n",
    "- None of the structures are actually affected \n",
    "- Record if there’s at least one structure that has p<0.05\n",
    "\n",
    "#### Case 2 repeats (8 experiments, 1000 repeats each):\n",
    "\n",
    "- Left hippocampus (levels 1&2) are actually affected \n",
    "- Record if there’s at least one structure among the left amygdala (levels 1&2) have p<0.05\n",
    "\n",
    "#### Case 3 repeats (8 experiments, 1000 repeats each):\n",
    "\n",
    "- Left hippocampus (levels 1&2) and left amygdala (levels 1&2) are actually affected \n",
    "- There are no structures in this case that could yield false positives (only true positives), so don’t consider case 3 repeats for false positives\n",
    "\n",
    "#### Case 4 repeats (8 experiments, 1000 repeats each):\n",
    "\n",
    "- Use the saved Zs to see which structures are actually affected:\n",
    "\n",
    "    - If the left hippocampus is actually affected, record if there’s at least one structure among the left amygdala (levels 1&2) that has p<0.05\n",
    "    - If the left amygdala is affected, record if there’s at least one structure among the left hippocampus (levels 1&2) that has p<0.05\n",
    "\n",
    "#### In total, there are 8000 * 4 = 32,000 repeats"
   ]
  },
  {
   "cell_type": "markdown",
   "id": "c1a03814",
   "metadata": {},
   "source": [
    "## Viewing the contents of one of the .npz files"
   ]
  },
  {
   "cell_type": "code",
   "execution_count": 1,
   "id": "4586e3c0",
   "metadata": {},
   "outputs": [],
   "source": [
    "import numpy as np\n",
    "%matplotlib notebook\n",
    "import matplotlib.pyplot as plt\n",
    "import pandas as pd\n",
    "\n",
    "import scipy\n",
    "from scipy import stats\n",
    "from scipy.stats import binom"
   ]
  },
  {
   "cell_type": "code",
   "execution_count": 29,
   "id": "35aa729b",
   "metadata": {},
   "outputs": [
    {
     "name": "stdout",
     "output_type": "stream",
     "text": [
      "arr_0\n",
      "['Limbic_L_434_3, P[Z=1|X]=0.28751672624651625, p=0.125'\n",
      " 'CerebralCortex_L_482_4, P[Z=1|X]=0.28751672624651625, p=0.125'\n",
      " 'Telencephalon_L_501_5, P[Z=1|X]=0.28751672624651625, p=0.125'\n",
      " 'Everything, P[Z=1|X]=0.28751672624651625, p=0.125'\n",
      " 'Amyg_L_73_1, P[Z=1|X]=0.1537784202057456, p=0.158'\n",
      " 'Amyg_L_336_2, P[Z=1|X]=0.1537784202057456, p=0.158'\n",
      " 'Hippo_L_75_1, P[Z=1|X]=0.0002833414807840441, p=0.418'\n",
      " 'Hippo_L_338_2, P[Z=1|X]=0.0002833414807840441, p=0.418']\n"
     ]
    }
   ],
   "source": [
    "# Viewing the contents of one of the .npz files \n",
    "# Assign the file to an object called \"test,\" which is a dictionary object\n",
    "test = np.load(\"fwer_experiments/case_1_experiment_1_repeat_0000.npz\")\n",
    "\n",
    "# Print each key in the dictionary \n",
    "for key in test: \n",
    "    print(key)\n",
    "\n",
    "# Print the values corresponding to this key\n",
    "print(test[\"arr_0\"])"
   ]
  },
  {
   "cell_type": "markdown",
   "id": "f82fd5e4",
   "metadata": {},
   "source": [
    "## Addressing ties in the probability of a structure being affected\n",
    "\n",
    "In the example above, Limbic_L_434_3, CerebralCortex_L_482_4, Telencephalon_L_501_5, and Everything all have a probability of 0.037920449823881666 of being affected.\n",
    "\n",
    "This is a four-way tie in the probability of being affected.\n",
    "\n",
    "We want the order of these tied structures to be from parents to children."
   ]
  },
  {
   "cell_type": "code",
   "execution_count": 3,
   "id": "c00aceac",
   "metadata": {},
   "outputs": [
    {
     "name": "stdout",
     "output_type": "stream",
     "text": [
      "6 Amyg_L_336_2\n",
      "8 Amyg_L_73_1\n",
      "3 CerebralCortex_L_482_4\n",
      "1 Everything\n",
      "5 Hippo_L_338_2\n",
      "7 Hippo_L_75_1\n",
      "4 Limbic_L_434_3\n"
     ]
    },
    {
     "data": {
      "text/plain": [
       "{'Everything': 1,\n",
       " 'Telencephalon_L_501_5': 2,\n",
       " 'CerebralCortex_L_482_4': 3,\n",
       " 'Limbic_L_434_3': 4,\n",
       " 'Hippo_L_338_2': 5,\n",
       " 'Amyg_L_336_2': 6,\n",
       " 'Hippo_L_75_1': 7,\n",
       " 'Amyg_L_73_1': 8}"
      ]
     },
     "execution_count": 3,
     "metadata": {},
     "output_type": "execute_result"
    }
   ],
   "source": [
    "dictionary = {\"Everything\" : 1, \n",
    "              \"Telencephalon_L_501_5\" : 2,\n",
    "              \"CerebralCortex_L_482_4\": 3, \n",
    "              \"Limbic_L_434_3\" : 4,\n",
    "              \"Hippo_L_338_2\" : 5,\n",
    "              \"Amyg_L_336_2\" : 6,\n",
    "              \"Hippo_L_75_1\" : 7,\n",
    "              \"Amyg_L_73_1\" : 8\n",
    "             }\n",
    "\n",
    "# Print the alphabetically sorted strucutures and their indices\n",
    "for i in range(0, 7):\n",
    "    print(dictionary[sorted(dictionary)[i]], sorted(dictionary)[i]) \n",
    "    \n",
    "# Print the structures sorted by index (sorted by parent to child)\n",
    "dict(sorted(dictionary.items(), key=lambda item: item[1]))"
   ]
  },
  {
   "cell_type": "code",
   "execution_count": 4,
   "id": "58e0b133",
   "metadata": {},
   "outputs": [
    {
     "name": "stdout",
     "output_type": "stream",
     "text": [
      "Everything, P[Z=1|X]=0.28751672624651625, p=0.125 \n",
      "\n",
      "Telencephalon_L_501_5, P[Z=1|X]=0.28751672624651625, p=0.125 \n",
      "\n",
      "CerebralCortex_L_482_4, P[Z=1|X]=0.28751672624651625, p=0.125 \n",
      "\n",
      "Limbic_L_434_3, P[Z=1|X]=0.28751672624651625, p=0.125 \n",
      "\n",
      "Amyg_L_336_2, P[Z=1|X]=0.1537784202057456, p=0.158 \n",
      "\n",
      "Amyg_L_73_1, P[Z=1|X]=0.1537784202057456, p=0.158 \n",
      "\n",
      "Hippo_L_338_2, P[Z=1|X]=0.0002833414807840441, p=0.418 \n",
      "\n",
      "Hippo_L_75_1, P[Z=1|X]=0.0002833414807840441, p=0.418 \n",
      "\n"
     ]
    }
   ],
   "source": [
    "# List of strings\n",
    "my_list = test[\"arr_0\"]\n",
    "\n",
    "# Round 1: sort structures from parent to child\n",
    "# Extract the name and sort by key values in the dictionary\n",
    "my_list = sorted(my_list, key = lambda x : dictionary[x.split(\",\")[0]])  \n",
    "\n",
    "# Round 2: sort the 1st (actually 2nd) element of each list -> probabilities get sorted numerically\n",
    "# Convert the probabilities to floats so that the numbers are sorted numerically (not alphabetically)\n",
    "# If there's a tie in probabilities, the first sort will be used instead (parent to child)\n",
    "my_list = sorted(my_list, key = lambda x : float(x.split(\",\")[1].split(\"=\")[-1]), reverse = True) \n",
    "\n",
    "for i in range(0, len(my_list)):\n",
    "    print(my_list[i], \"\\n\")"
   ]
  },
  {
   "cell_type": "code",
   "execution_count": 45,
   "id": "684f0747",
   "metadata": {},
   "outputs": [],
   "source": [
    "def sorting_function(input_string):\n",
    "    my_list = input_string\n",
    "    my_list = sorted(my_list, key = lambda x : dictionary[x.split(\",\")[0]])  \n",
    "    my_list = sorted(my_list, key = lambda x : float(x.split(\",\")[1].split(\"=\")[-1]), reverse = True) \n",
    "    return my_list"
   ]
  },
  {
   "cell_type": "markdown",
   "id": "15345a98",
   "metadata": {},
   "source": [
    "## Case 1 repeats\n",
    "\n",
    "General format of case 1 repeat files: case_1_experiment_x_repeat_xxxx.npz\n",
    "\n",
    "Case 1 experiments 1-8, repeats 0000 to 0999 → 8 * 1000 = 8000 files"
   ]
  },
  {
   "cell_type": "markdown",
   "id": "7ec19adc",
   "metadata": {},
   "source": [
    "### Case 1: Obtaining a list of file names"
   ]
  },
  {
   "cell_type": "code",
   "execution_count": 13,
   "id": "5112da6c",
   "metadata": {},
   "outputs": [
    {
     "data": {
      "text/plain": [
       "(['fwer_experiments/case_1_experiment_1_repeat_0000.npz',\n",
       "  'fwer_experiments/case_1_experiment_1_repeat_0001.npz',\n",
       "  'fwer_experiments/case_1_experiment_1_repeat_0002.npz',\n",
       "  'fwer_experiments/case_1_experiment_1_repeat_0003.npz'],\n",
       " ['fwer_experiments/case_1_experiment_8_repeat_0996.npz',\n",
       "  'fwer_experiments/case_1_experiment_8_repeat_0997.npz',\n",
       "  'fwer_experiments/case_1_experiment_8_repeat_0998.npz',\n",
       "  'fwer_experiments/case_1_experiment_8_repeat_0999.npz'])"
      ]
     },
     "execution_count": 13,
     "metadata": {},
     "output_type": "execute_result"
    }
   ],
   "source": [
    "case_1 = []\n",
    "\n",
    "for i in range(1, 9):\n",
    "    for j in range(0, 1000):\n",
    "        if j < 10:\n",
    "            string = \"fwer_experiments/case_1_experiment_\" + str(i) + \"_repeat_\" + \"000\" + str(j) + \".npz\"\n",
    "        elif j < 100:\n",
    "            string = \"fwer_experiments/case_1_experiment_\" + str(i) + \"_repeat_\" + \"00\" + str(j) + \".npz\"\n",
    "        else:\n",
    "            string = \"fwer_experiments/case_1_experiment_\" + str(i) + \"_repeat_\" + \"0\" + str(j) + \".npz\"\n",
    "        case_1.append(string)\n",
    "\n",
    "case_1[0:4], case_1[7996:8001]"
   ]
  },
  {
   "cell_type": "markdown",
   "id": "f6df1998",
   "metadata": {},
   "source": [
    "### Case 1 experiment 1: Calculating the false positives rate\n",
    "\n",
    "Case 1: nothing is affected\n",
    "\n",
    "Experiment 1: clip the probabilities at 0.999 and 0.001 (original)"
   ]
  },
  {
   "cell_type": "code",
   "execution_count": 50,
   "id": "50cd3724",
   "metadata": {},
   "outputs": [
    {
     "data": {
      "text/plain": [
       "0.048"
      ]
     },
     "execution_count": 50,
     "metadata": {},
     "output_type": "execute_result"
    }
   ],
   "source": [
    "count = 0\n",
    "\n",
    "for i in range(0, 1000): # For each of the 1000 case 1 experiment 1 files (0000-0999)...\n",
    "    reject_p = np.array([0, 0, 0, 0, 0, 0, 0, 0]) # For each repeat, assume no structures are affected (null hypothesis)\n",
    "    file = np.load(case_1[i]) # Load the file\n",
    "    file = file[\"arr_0\"] # Values corresponding to the key\n",
    "    file = sorting_function(file)\n",
    "    \n",
    "    for j in range(0, 7): # For each structure in each repeat...\n",
    "        p = file[j].find(\"p=\") # Index of \"p\" in the string\n",
    "        pval = float(file[j][p::][2::]) # Extract the p-value\n",
    "        if pval < 0.05: # If the p-value is < 0.05...\n",
    "            reject_p[j] = 1\n",
    "        else: # The test statistic is the probabilities, which were sorted, so stop after the first structure we fail to reject\n",
    "            break\n",
    "     \n",
    "    if any(reject_p > 0): # If there's at least one structure with p < 0.05...\n",
    "        count += 1 # Add 1 to the false positive count\n",
    "\n",
    "count / 1000"
   ]
  },
  {
   "cell_type": "markdown",
   "id": "02b8b153",
   "metadata": {},
   "source": [
    "Note: the false positive rate comes out to be 0.048 regardless of whether I comment out the line `file = sorting_function(file)` or not"
   ]
  },
  {
   "cell_type": "markdown",
   "id": "480eeb31",
   "metadata": {},
   "source": [
    "#### Probability of estimating a false positive rate at least this small, when the true false positive rate is 0.05. "
   ]
  },
  {
   "cell_type": "code",
   "execution_count": 52,
   "id": "15933c5b",
   "metadata": {},
   "outputs": [
    {
     "data": {
      "text/plain": [
       "0.42201383886607474"
      ]
     },
     "execution_count": 52,
     "metadata": {},
     "output_type": "execute_result"
    }
   ],
   "source": [
    "binom.cdf(k = count, n = 1000, p = 0.05)"
   ]
  },
  {
   "cell_type": "markdown",
   "id": "06161e2c",
   "metadata": {},
   "source": [
    "#### Probability of estimating a false positive rate at least this big, when the true false positive rate is 0.05."
   ]
  },
  {
   "cell_type": "code",
   "execution_count": 53,
   "id": "30d17fc3",
   "metadata": {},
   "outputs": [
    {
     "data": {
      "text/plain": [
       "0.5779861611339252"
      ]
     },
     "execution_count": 53,
     "metadata": {},
     "output_type": "execute_result"
    }
   ],
   "source": [
    "1 - binom.cdf(k = count, n = 1000, p = 0.05)"
   ]
  },
  {
   "cell_type": "markdown",
   "id": "eca150b8",
   "metadata": {},
   "source": [
    "### Case 1 experiment 2: Calculating the false positives rate\n",
    "\n",
    "Case 1: nothing is affected\n",
    "\n",
    "Experiment 2: clip the probabilities at 0.9999 and 0.0001"
   ]
  },
  {
   "cell_type": "code",
   "execution_count": 55,
   "id": "0305b5d5",
   "metadata": {},
   "outputs": [
    {
     "data": {
      "text/plain": [
       "0.04"
      ]
     },
     "execution_count": 55,
     "metadata": {},
     "output_type": "execute_result"
    }
   ],
   "source": [
    "count = 0\n",
    "\n",
    "for i in range(1000, 2000): # For each of the 1000 case 1 experiment 2 files (0000-0999)...\n",
    "    reject_p = np.array([0, 0, 0, 0, 0, 0, 0, 0]) # For each repeat, assume no structures are affected (null hypothesis)\n",
    "    file = np.load(case_1[i]) # Load the file\n",
    "    file = file[\"arr_0\"] # Values corresponding to the key\n",
    "    file = sorting_function(file)\n",
    "    \n",
    "    for j in range(0, 7): # For each structure in each repeat...\n",
    "        p = file[j].find(\"p=\") # Index of \"p\" in the string\n",
    "        pval = float(file[j][p::][2::]) # Extract the p-value\n",
    "        if pval < 0.05: # If the p-value is < 0.05...\n",
    "            reject_p[j] = 1\n",
    "        else: # The test statistic is the probabilities, which were sorted, so stop after the first structure we fail to reject\n",
    "            break\n",
    "     \n",
    "    if any(reject_p > 0): # If there's at least one structure with p < 0.05...\n",
    "        count += 1 # Add 1 to the false positive count\n",
    "\n",
    "count / 1000"
   ]
  },
  {
   "cell_type": "markdown",
   "id": "0ea6b582",
   "metadata": {},
   "source": [
    "Note: the false positive rate comes out to be 0.048 regardless of whether I comment out the line `file = sorting_function(file)` or not"
   ]
  },
  {
   "cell_type": "markdown",
   "id": "919cf76c",
   "metadata": {},
   "source": [
    "#### Probability of estimating a false positive rate at least this small, when the true false positive rate is 0.05. "
   ]
  },
  {
   "cell_type": "code",
   "execution_count": 56,
   "id": "b61206f6",
   "metadata": {},
   "outputs": [
    {
     "data": {
      "text/plain": [
       "0.08063657325669037"
      ]
     },
     "execution_count": 56,
     "metadata": {},
     "output_type": "execute_result"
    }
   ],
   "source": [
    "binom.cdf(k = count, n = 1000, p = 0.05)"
   ]
  },
  {
   "cell_type": "markdown",
   "id": "2ea872c7",
   "metadata": {},
   "source": [
    "#### Probability of estimating a false positive rate at least this big, when the true false positive rate is 0.05."
   ]
  },
  {
   "cell_type": "code",
   "execution_count": 58,
   "id": "ae6347f6",
   "metadata": {},
   "outputs": [
    {
     "data": {
      "text/plain": [
       "0.9193634267433096"
      ]
     },
     "execution_count": 58,
     "metadata": {},
     "output_type": "execute_result"
    }
   ],
   "source": [
    "1 - binom.cdf(k = count, n = 1000, p = 0.05)"
   ]
  },
  {
   "cell_type": "markdown",
   "id": "0576fd0d",
   "metadata": {},
   "source": [
    "### Case 1 experiment 3: Calculating the false positives rate\n",
    "\n",
    "Case 1: nothing is affected\n",
    "\n",
    "Experiment 3: run 20 iterations of the EM algorithm (original)"
   ]
  },
  {
   "cell_type": "code",
   "execution_count": 60,
   "id": "fe12b581",
   "metadata": {},
   "outputs": [
    {
     "data": {
      "text/plain": [
       "0.052"
      ]
     },
     "execution_count": 60,
     "metadata": {},
     "output_type": "execute_result"
    }
   ],
   "source": [
    "count = 0\n",
    "\n",
    "for i in range(2000, 3000): # For each of the 1000 case 1 experiment 3 files (0000-0999)...\n",
    "    reject_p = np.array([0, 0, 0, 0, 0, 0, 0, 0]) # For each repeat, assume no structures are affected (null hypothesis)\n",
    "    file = np.load(case_1[i]) # Load the file\n",
    "    file = file[\"arr_0\"] # Values corresponding to the key\n",
    "    file = sorting_function(file)\n",
    "    \n",
    "    for j in range(0, 7): # For each structure in each repeat...\n",
    "        p = file[j].find(\"p=\") # Index of \"p\" in the string\n",
    "        pval = float(file[j][p::][2::]) # Extract the p-value\n",
    "        if pval < 0.05: # If the p-value is < 0.05...\n",
    "            reject_p[j] = 1\n",
    "        else: # The test statistic is the probabilities, which were sorted, so stop after the first structure we fail to reject\n",
    "            break\n",
    "     \n",
    "    if any(reject_p > 0): # If there's at least one structure with p < 0.05...\n",
    "        count += 1 # Add 1 to the false positive count\n",
    "\n",
    "count / 1000"
   ]
  },
  {
   "cell_type": "markdown",
   "id": "cba4ab10",
   "metadata": {},
   "source": [
    "Note: the false positive rate comes out to be 0.052 regardless of whether I comment out the line `file = sorting_function(file)` or not"
   ]
  },
  {
   "cell_type": "markdown",
   "id": "36d31890",
   "metadata": {},
   "source": [
    "#### Probability of estimating a false positive rate at least this small, when the true false positive rate is 0.05. "
   ]
  },
  {
   "cell_type": "code",
   "execution_count": 61,
   "id": "76921b84",
   "metadata": {},
   "outputs": [
    {
     "data": {
      "text/plain": [
       "0.6486024357111534"
      ]
     },
     "execution_count": 61,
     "metadata": {},
     "output_type": "execute_result"
    }
   ],
   "source": [
    "binom.cdf(k = count, n = 1000, p = 0.05)"
   ]
  },
  {
   "cell_type": "markdown",
   "id": "ddbb01c2",
   "metadata": {},
   "source": [
    "#### Probability of estimating a false positive rate at least this big, when the true false positive rate is 0.05."
   ]
  },
  {
   "cell_type": "code",
   "execution_count": 62,
   "id": "2709d892",
   "metadata": {},
   "outputs": [
    {
     "data": {
      "text/plain": [
       "0.3513975642888466"
      ]
     },
     "execution_count": 62,
     "metadata": {},
     "output_type": "execute_result"
    }
   ],
   "source": [
    "1 - binom.cdf(k = count, n = 1000, p = 0.05)"
   ]
  },
  {
   "cell_type": "markdown",
   "id": "9749a7cf",
   "metadata": {},
   "source": [
    "### Case 1 experiment 4: Calculating the false positives rate\n",
    "\n",
    "Case 1: nothing is affected\n",
    "\n",
    "Experiment 4: run 50 iterations of the EM algorithm"
   ]
  },
  {
   "cell_type": "code",
   "execution_count": 64,
   "id": "4c8c3a48",
   "metadata": {},
   "outputs": [
    {
     "data": {
      "text/plain": [
       "0.042"
      ]
     },
     "execution_count": 64,
     "metadata": {},
     "output_type": "execute_result"
    }
   ],
   "source": [
    "count = 0\n",
    "\n",
    "for i in range(3000, 4000): # For each of the 1000 case 1 experiment 4 files (0000-0999)...\n",
    "    reject_p = np.array([0, 0, 0, 0, 0, 0, 0, 0]) # For each repeat, assume no structures are affected (null hypothesis)\n",
    "    file = np.load(case_1[i]) # Load the file\n",
    "    file = file[\"arr_0\"] # Values corresponding to the key\n",
    "    file = sorting_function(file)\n",
    "    \n",
    "    for j in range(0, 7): # For each structure in each repeat...\n",
    "        p = file[j].find(\"p=\") # Index of \"p\" in the string\n",
    "        pval = float(file[j][p::][2::]) # Extract the p-value\n",
    "        if pval < 0.05: # If the p-value is < 0.05...\n",
    "            reject_p[j] = 1\n",
    "        else: # The test statistic is the probabilities, which were sorted, so stop after the first structure we fail to reject\n",
    "            break\n",
    "     \n",
    "    if any(reject_p > 0): # If there's at least one structure with p < 0.05...\n",
    "        count += 1 # Add 1 to the false positive count\n",
    "\n",
    "count / 1000"
   ]
  },
  {
   "cell_type": "markdown",
   "id": "be405804",
   "metadata": {},
   "source": [
    "Note: the false positive rate comes out to be 0.042 regardless of whether I comment out the line `file = sorting_function(file)` or not"
   ]
  },
  {
   "cell_type": "markdown",
   "id": "5a4dbe0a",
   "metadata": {},
   "source": [
    "#### Probability of estimating a false positive rate at least this small, when the true false positive rate is 0.05. "
   ]
  },
  {
   "cell_type": "code",
   "execution_count": 65,
   "id": "59d4b40d",
   "metadata": {},
   "outputs": [
    {
     "data": {
      "text/plain": [
       "0.1371327045494613"
      ]
     },
     "execution_count": 65,
     "metadata": {},
     "output_type": "execute_result"
    }
   ],
   "source": [
    "binom.cdf(k = count, n = 1000, p = 0.05)"
   ]
  },
  {
   "cell_type": "markdown",
   "id": "ecf62956",
   "metadata": {},
   "source": [
    "#### Probability of estimating a false positive rate at least this big, when the true false positive rate is 0.05."
   ]
  },
  {
   "cell_type": "code",
   "execution_count": 66,
   "id": "c2134079",
   "metadata": {},
   "outputs": [
    {
     "data": {
      "text/plain": [
       "0.8628672954505388"
      ]
     },
     "execution_count": 66,
     "metadata": {},
     "output_type": "execute_result"
    }
   ],
   "source": [
    "1 - binom.cdf(k = count, n = 1000, p = 0.05)"
   ]
  },
  {
   "cell_type": "markdown",
   "id": "b845f59b",
   "metadata": {},
   "source": [
    "### Case 1 experiment 5: Calculating the false positives rate\n",
    "\n",
    "Case 1: nothing is affected\n",
    "\n",
    "Experiment 5: run 100 iterations of the EM algorithm"
   ]
  },
  {
   "cell_type": "code",
   "execution_count": 68,
   "id": "a793d28b",
   "metadata": {},
   "outputs": [
    {
     "data": {
      "text/plain": [
       "0.04"
      ]
     },
     "execution_count": 68,
     "metadata": {},
     "output_type": "execute_result"
    }
   ],
   "source": [
    "count = 0\n",
    "\n",
    "for i in range(4000, 5000): # For each of the 1000 case 1 experiment 5 files (0000-0999)...\n",
    "    reject_p = np.array([0, 0, 0, 0, 0, 0, 0, 0]) # For each repeat, assume no structures are affected (null hypothesis)\n",
    "    file = np.load(case_1[i]) # Load the file\n",
    "    file = file[\"arr_0\"] # Values corresponding to the key\n",
    "    file = sorting_function(file)\n",
    "    \n",
    "    for j in range(0, 7): # For each structure in each repeat...\n",
    "        p = file[j].find(\"p=\") # Index of \"p\" in the string\n",
    "        pval = float(file[j][p::][2::]) # Extract the p-value\n",
    "        if pval < 0.05: # If the p-value is < 0.05...\n",
    "            reject_p[j] = 1\n",
    "        else: # The test statistic is the probabilities, which were sorted, so stop after the first structure we fail to reject\n",
    "            break\n",
    "     \n",
    "    if any(reject_p > 0): # If there's at least one structure with p < 0.05...\n",
    "        count += 1 # Add 1 to the false positive count\n",
    "\n",
    "count / 1000"
   ]
  },
  {
   "cell_type": "markdown",
   "id": "5a51e6a2",
   "metadata": {},
   "source": [
    "Note: the false positive rate comes out to be 0.04 regardless of whether I comment out the line `file = sorting_function(file)` or not"
   ]
  },
  {
   "cell_type": "markdown",
   "id": "2a5b551a",
   "metadata": {},
   "source": [
    "#### Probability of estimating a false positive rate at least this small, when the true false positive rate is 0.05. "
   ]
  },
  {
   "cell_type": "code",
   "execution_count": 69,
   "id": "9ee09765",
   "metadata": {},
   "outputs": [
    {
     "data": {
      "text/plain": [
       "0.08063657325669037"
      ]
     },
     "execution_count": 69,
     "metadata": {},
     "output_type": "execute_result"
    }
   ],
   "source": [
    "binom.cdf(k = count, n = 1000, p = 0.05)"
   ]
  },
  {
   "cell_type": "markdown",
   "id": "66861dae",
   "metadata": {},
   "source": [
    "#### Probability of estimating a false positive rate at least this big, when the true false positive rate is 0.05."
   ]
  },
  {
   "cell_type": "code",
   "execution_count": 70,
   "id": "f0b94d1f",
   "metadata": {},
   "outputs": [
    {
     "data": {
      "text/plain": [
       "0.9193634267433096"
      ]
     },
     "execution_count": 70,
     "metadata": {},
     "output_type": "execute_result"
    }
   ],
   "source": [
    "1 - binom.cdf(k = count, n = 1000, p = 0.05)"
   ]
  },
  {
   "cell_type": "markdown",
   "id": "ac0e5620",
   "metadata": {},
   "source": [
    "### Case 1 experiment 6: Calculating the false positives rate\n",
    "\n",
    "Case 1: nothing is affected\n",
    "\n",
    "Experiment 6: initial probabilities are 0.5 (original)"
   ]
  },
  {
   "cell_type": "code",
   "execution_count": 72,
   "id": "6b0b93a4",
   "metadata": {},
   "outputs": [
    {
     "data": {
      "text/plain": [
       "0.049"
      ]
     },
     "execution_count": 72,
     "metadata": {},
     "output_type": "execute_result"
    }
   ],
   "source": [
    "count = 0\n",
    "\n",
    "for i in range(5000, 6000): # For each of the 1000 case 1 experiment 6 files (0000-0999)...\n",
    "    reject_p = np.array([0, 0, 0, 0, 0, 0, 0, 0]) # For each repeat, assume no structures are affected (null hypothesis)\n",
    "    file = np.load(case_1[i]) # Load the file\n",
    "    file = file[\"arr_0\"] # Values corresponding to the key\n",
    "    file = sorting_function(file)\n",
    "    \n",
    "    for j in range(0, 7): # For each structure in each repeat...\n",
    "        p = file[j].find(\"p=\") # Index of \"p\" in the string\n",
    "        pval = float(file[j][p::][2::]) # Extract the p-value\n",
    "        if pval < 0.05: # If the p-value is < 0.05...\n",
    "            reject_p[j] = 1\n",
    "        else: # The test statistic is the probabilities, which were sorted, so stop after the first structure we fail to reject\n",
    "            break\n",
    "     \n",
    "    if any(reject_p > 0): # If there's at least one structure with p < 0.05...\n",
    "        count += 1 # Add 1 to the false positive count\n",
    "\n",
    "count / 1000"
   ]
  },
  {
   "cell_type": "markdown",
   "id": "26ad0a47",
   "metadata": {},
   "source": [
    "Note: the false positive rate comes out to be 0.049 regardless of whether I comment out the line `file = sorting_function(file)` or not"
   ]
  },
  {
   "cell_type": "markdown",
   "id": "140dfe3d",
   "metadata": {},
   "source": [
    "#### Probability of estimating a false positive rate at least this small, when the true false positive rate is 0.05. "
   ]
  },
  {
   "cell_type": "code",
   "execution_count": 73,
   "id": "acf60778",
   "metadata": {},
   "outputs": [
    {
     "data": {
      "text/plain": [
       "0.47974105708732373"
      ]
     },
     "execution_count": 73,
     "metadata": {},
     "output_type": "execute_result"
    }
   ],
   "source": [
    "binom.cdf(k = count, n = 1000, p = 0.05)"
   ]
  },
  {
   "cell_type": "markdown",
   "id": "7cacc207",
   "metadata": {},
   "source": [
    "#### Probability of estimating a false positive rate at least this big, when the true false positive rate is 0.05."
   ]
  },
  {
   "cell_type": "code",
   "execution_count": 74,
   "id": "f9f59fd8",
   "metadata": {},
   "outputs": [
    {
     "data": {
      "text/plain": [
       "0.5202589429126763"
      ]
     },
     "execution_count": 74,
     "metadata": {},
     "output_type": "execute_result"
    }
   ],
   "source": [
    "1 - binom.cdf(k = count, n = 1000, p = 0.05)"
   ]
  },
  {
   "cell_type": "markdown",
   "id": "04d9998a",
   "metadata": {},
   "source": [
    "### Case 1 experiment 7: Calculating the false positives rate\n",
    "\n",
    "Case 1: nothing is affected\n",
    "\n",
    "Experiment 7: initial probabilities are 0.25"
   ]
  },
  {
   "cell_type": "code",
   "execution_count": 76,
   "id": "c56433f9",
   "metadata": {},
   "outputs": [
    {
     "data": {
      "text/plain": [
       "0.047"
      ]
     },
     "execution_count": 76,
     "metadata": {},
     "output_type": "execute_result"
    }
   ],
   "source": [
    "count = 0\n",
    "\n",
    "for i in range(6000, 7000): # For each of the 1000 case 1 experiment 7 files (0000-0999)...\n",
    "    reject_p = np.array([0, 0, 0, 0, 0, 0, 0, 0]) # For each repeat, assume no structures are affected (null hypothesis)\n",
    "    file = np.load(case_1[i]) # Load the file\n",
    "    file = file[\"arr_0\"] # Values corresponding to the key\n",
    "    file = sorting_function(file)\n",
    "    \n",
    "    for j in range(0, 7): # For each structure in each repeat...\n",
    "        p = file[j].find(\"p=\") # Index of \"p\" in the string\n",
    "        pval = float(file[j][p::][2::]) # Extract the p-value\n",
    "        if pval < 0.05: # If the p-value is < 0.05...\n",
    "            reject_p[j] = 1\n",
    "        else: # The test statistic is the probabilities, which were sorted, so stop after the first structure we fail to reject\n",
    "            break\n",
    "     \n",
    "    if any(reject_p > 0): # If there's at least one structure with p < 0.05...\n",
    "        count += 1 # Add 1 to the false positive count\n",
    "\n",
    "count / 1000"
   ]
  },
  {
   "cell_type": "markdown",
   "id": "3d0b6886",
   "metadata": {},
   "source": [
    "Note: the false positive rate comes out to be 0.047 regardless of whether I comment out the line `file = sorting_function(file)` or not"
   ]
  },
  {
   "cell_type": "markdown",
   "id": "6bedc44e",
   "metadata": {},
   "source": [
    "#### Probability of estimating a false positive rate at least this small, when the true false positive rate is 0.05. "
   ]
  },
  {
   "cell_type": "code",
   "execution_count": 77,
   "id": "b83862af",
   "metadata": {},
   "outputs": [
    {
     "data": {
      "text/plain": [
       "0.36556001516442105"
      ]
     },
     "execution_count": 77,
     "metadata": {},
     "output_type": "execute_result"
    }
   ],
   "source": [
    "binom.cdf(k = count, n = 1000, p = 0.05)"
   ]
  },
  {
   "cell_type": "markdown",
   "id": "f7c69f4f",
   "metadata": {},
   "source": [
    "#### Probability of estimating a false positive rate at least this big, when the true false positive rate is 0.05."
   ]
  },
  {
   "cell_type": "code",
   "execution_count": 78,
   "id": "d717cc7f",
   "metadata": {},
   "outputs": [
    {
     "data": {
      "text/plain": [
       "0.634439984835579"
      ]
     },
     "execution_count": 78,
     "metadata": {},
     "output_type": "execute_result"
    }
   ],
   "source": [
    "1 - binom.cdf(k = count, n = 1000, p = 0.05)"
   ]
  },
  {
   "cell_type": "markdown",
   "id": "14ab5a53",
   "metadata": {},
   "source": [
    "### Case 1 experiment 8: Calculating the false positives rate\n",
    "\n",
    "Case 1: nothing is affected\n",
    "\n",
    "Experiment 8: initial probabilities are 0.75"
   ]
  },
  {
   "cell_type": "code",
   "execution_count": 86,
   "id": "4839ed9f",
   "metadata": {},
   "outputs": [
    {
     "data": {
      "text/plain": [
       "0.058"
      ]
     },
     "execution_count": 86,
     "metadata": {},
     "output_type": "execute_result"
    }
   ],
   "source": [
    "count = 0\n",
    "\n",
    "for i in range(7000, 8000): # For each of the 1000 case 1 experiment 8 files (0000-0999)...\n",
    "    reject_p = np.array([0, 0, 0, 0, 0, 0, 0, 0]) # For each repeat, assume no structures are affected (null hypothesis)\n",
    "    file = np.load(case_1[i]) # Load the file\n",
    "    file = file[\"arr_0\"] # Values corresponding to the key\n",
    "    file = sorting_function(file)\n",
    "    \n",
    "    for j in range(0, 7): # For each structure in each repeat...\n",
    "        p = file[j].find(\"p=\") # Index of \"p\" in the string\n",
    "        pval = float(file[j][p::][2::]) # Extract the p-value\n",
    "        if pval < 0.05: # If the p-value is < 0.05...\n",
    "            reject_p[j] = 1\n",
    "        else: # The test statistic is the probabilities, which were sorted, so stop after the first structure we fail to reject\n",
    "            break\n",
    "     \n",
    "    if any(reject_p > 0): # If there's at least one structure with p < 0.05...\n",
    "        count += 1 # Add 1 to the false positive count\n",
    "\n",
    "count / 1000"
   ]
  },
  {
   "cell_type": "markdown",
   "id": "1bd3f042",
   "metadata": {},
   "source": [
    "Note: the false positive rate comes out to be 0.058 regardless of whether I comment out the line `file = sorting_function(file)` or not"
   ]
  },
  {
   "cell_type": "markdown",
   "id": "9430f783",
   "metadata": {},
   "source": [
    "#### Probability of estimating a false positive rate at least this small, when the true false positive rate is 0.05. "
   ]
  },
  {
   "cell_type": "code",
   "execution_count": 87,
   "id": "78b2548c",
   "metadata": {},
   "outputs": [
    {
     "data": {
      "text/plain": [
       "0.8894384782391881"
      ]
     },
     "execution_count": 87,
     "metadata": {},
     "output_type": "execute_result"
    }
   ],
   "source": [
    "binom.cdf(k = count, n = 1000, p = 0.05)"
   ]
  },
  {
   "cell_type": "markdown",
   "id": "2eccd37c",
   "metadata": {},
   "source": [
    "#### Probability of estimating a false positive rate at least this big, when the true false positive rate is 0.05."
   ]
  },
  {
   "cell_type": "code",
   "execution_count": 88,
   "id": "830afde5",
   "metadata": {},
   "outputs": [
    {
     "data": {
      "text/plain": [
       "0.11056152176081191"
      ]
     },
     "execution_count": 88,
     "metadata": {},
     "output_type": "execute_result"
    }
   ],
   "source": [
    "1 - binom.cdf(k = count, n = 1000, p = 0.05)"
   ]
  },
  {
   "cell_type": "markdown",
   "id": "84094156",
   "metadata": {},
   "source": [
    "## Case 2 repeats\n",
    "\n",
    "General format of case 2 repeat files: case_2_experiment_x_repeat_xxxx.npz\n",
    "\n",
    "Case 2 experiments 1-8, repeats 0000 to 0999 → 8 * 1000 = 8000 files"
   ]
  },
  {
   "cell_type": "markdown",
   "id": "e9ba2c64",
   "metadata": {},
   "source": [
    "### Case 2: Obtaining a list of file names"
   ]
  },
  {
   "cell_type": "code",
   "execution_count": 82,
   "id": "899f8081",
   "metadata": {},
   "outputs": [
    {
     "data": {
      "text/plain": [
       "(['fwer_experiments/case_2_experiment_1_repeat_0000.npz',\n",
       "  'fwer_experiments/case_2_experiment_1_repeat_0001.npz',\n",
       "  'fwer_experiments/case_2_experiment_1_repeat_0002.npz',\n",
       "  'fwer_experiments/case_2_experiment_1_repeat_0003.npz'],\n",
       " ['fwer_experiments/case_2_experiment_8_repeat_0996.npz',\n",
       "  'fwer_experiments/case_2_experiment_8_repeat_0997.npz',\n",
       "  'fwer_experiments/case_2_experiment_8_repeat_0998.npz',\n",
       "  'fwer_experiments/case_2_experiment_8_repeat_0999.npz'])"
      ]
     },
     "execution_count": 82,
     "metadata": {},
     "output_type": "execute_result"
    }
   ],
   "source": [
    "case_2 = []\n",
    "\n",
    "for i in range(1, 9):\n",
    "    for j in range(0, 1000):\n",
    "        if j < 10:\n",
    "            string = \"fwer_experiments/case_2_experiment_\" + str(i) + \"_repeat_\" + \"000\" + str(j) + \".npz\"\n",
    "        elif j < 100:\n",
    "            string = \"fwer_experiments/case_2_experiment_\" + str(i) + \"_repeat_\" + \"00\" + str(j) + \".npz\"\n",
    "        else:\n",
    "            string = \"fwer_experiments/case_2_experiment_\" + str(i) + \"_repeat_\" + \"0\" + str(j) + \".npz\"\n",
    "        case_2.append(string)\n",
    "\n",
    "case_2[0:4], case_2[7996:8001]"
   ]
  },
  {
   "cell_type": "markdown",
   "id": "2884eb04",
   "metadata": {},
   "source": [
    "### Case 2 experiment 1: Calculating the false positives rate\n",
    "\n",
    "Case 2: left hippocampus is affected\n",
    "\n",
    "Experiment 1: clip the probabilities at 0.999 and 0.001 (original)"
   ]
  },
  {
   "cell_type": "code",
   "execution_count": 89,
   "id": "0fc94850",
   "metadata": {},
   "outputs": [
    {
     "data": {
      "text/plain": [
       "0.057"
      ]
     },
     "execution_count": 89,
     "metadata": {},
     "output_type": "execute_result"
    }
   ],
   "source": [
    "count = 0\n",
    "\n",
    "for i in range(0, 1000): # For each of the 1000 case 2 experiment 1 files...\n",
    "    reject_p = np.array([0, 0, 0, 0, 0, 0, 0, 0]) # For each repeat, assume no structures are affected (null hypothesis)\n",
    "    file = np.load(case_2[i]) # Load the file\n",
    "    file = file[\"arr_0\"] # Values corresponding to the key\n",
    "    file = sorting_function(file)\n",
    "    \n",
    "    for j in range(0, 7): # For the last two structures (left amygdala levels 1 and 2) in each repeat...\n",
    "        p = file[j].find(\"p=\") # Index of \"p\" in the string\n",
    "        pval = float(file[j][p::][2::]) # Extract the p-value\n",
    "        if pval < 0.05: # If the p-value is < 0.05...\n",
    "            reject_p[j] = 1\n",
    "        else:\n",
    "            break\n",
    "    \n",
    "    for r, s in zip(reject_p, file):\n",
    "        if \"Amyg\" in s and r: # If \"Amyg\" is in the string and we decided to reject H0...\n",
    "            count += 1\n",
    "            break\n",
    "\n",
    "\n",
    "count / 1000"
   ]
  },
  {
   "cell_type": "markdown",
   "id": "e0b98d39",
   "metadata": {},
   "source": [
    "Note: the false positive rate comes out to be 0.057 regardless of whether I comment out the line `file = sorting_function(file)` or not"
   ]
  },
  {
   "cell_type": "markdown",
   "id": "190c03e6",
   "metadata": {},
   "source": [
    "#### Probability of estimating a false positive rate at least this small, when the true false positive rate is 0.05. "
   ]
  },
  {
   "cell_type": "code",
   "execution_count": 90,
   "id": "93e7ed44",
   "metadata": {},
   "outputs": [
    {
     "data": {
      "text/plain": [
       "0.8610810536909479"
      ]
     },
     "execution_count": 90,
     "metadata": {},
     "output_type": "execute_result"
    }
   ],
   "source": [
    "binom.cdf(k = count, n = 1000, p = 0.05)"
   ]
  },
  {
   "cell_type": "markdown",
   "id": "6d3458b7",
   "metadata": {},
   "source": [
    "#### Probability of estimating a false positive rate at least this big, when the true false positive rate is 0.05."
   ]
  },
  {
   "cell_type": "code",
   "execution_count": 91,
   "id": "21590923",
   "metadata": {},
   "outputs": [
    {
     "data": {
      "text/plain": [
       "0.1389189463090521"
      ]
     },
     "execution_count": 91,
     "metadata": {},
     "output_type": "execute_result"
    }
   ],
   "source": [
    "1 - binom.cdf(k = count, n = 1000, p = 0.05)"
   ]
  },
  {
   "cell_type": "markdown",
   "id": "a450ac6c",
   "metadata": {},
   "source": [
    "### Case 2 experiment 2: Calculating the false positives rate\n",
    "\n",
    "Case 2: left hippocampus is affected\n",
    "\n",
    "Experiment 2: clip the probabilities at 0.9999 and 0.0001"
   ]
  },
  {
   "cell_type": "code",
   "execution_count": 93,
   "id": "f2117904",
   "metadata": {},
   "outputs": [
    {
     "data": {
      "text/plain": [
       "0.047"
      ]
     },
     "execution_count": 93,
     "metadata": {},
     "output_type": "execute_result"
    }
   ],
   "source": [
    "count = 0\n",
    "\n",
    "for i in range(1000, 2000): # For each of the 100 case 2 experiment 2 files...\n",
    "    reject_p = np.array([0, 0, 0, 0, 0, 0, 0, 0]) # For each repeat, assume no structures are affected (null hypothesis)\n",
    "    file = np.load(case_2[i]) # Load the file\n",
    "    file = file[\"arr_0\"] # Values corresponding to the key\n",
    "    file = sorting_function(file)\n",
    "    \n",
    "    for j in range(0, 7): # For the last two structures (left amygdala levels 1 and 2) in each repeat...\n",
    "        p = file[j].find(\"p=\") # Index of \"p\" in the string\n",
    "        pval = float(file[j][p::][2::]) # Extract the p-value\n",
    "        if pval < 0.05: # If the p-value is < 0.05...\n",
    "            reject_p[j] = 1\n",
    "        else:\n",
    "            break\n",
    "    \n",
    "    for r, s in zip(reject_p, file):\n",
    "        if \"Amyg\" in s and r: # If \"Amyg\" is in the string and we decided to reject H0...\n",
    "            count += 1\n",
    "            break\n",
    "\n",
    "\n",
    "count / 1000"
   ]
  },
  {
   "cell_type": "markdown",
   "id": "6485bcf1",
   "metadata": {},
   "source": [
    "Note: the false positive rate comes out to be 0.047 regardless of whether I comment out the line `file = sorting_function(file)` or not"
   ]
  },
  {
   "cell_type": "markdown",
   "id": "d53d4fa7",
   "metadata": {},
   "source": [
    "#### Probability of estimating a false positive rate at least this small, when the true false positive rate is 0.05. "
   ]
  },
  {
   "cell_type": "code",
   "execution_count": 94,
   "id": "82220a0d",
   "metadata": {},
   "outputs": [
    {
     "data": {
      "text/plain": [
       "0.36556001516442105"
      ]
     },
     "execution_count": 94,
     "metadata": {},
     "output_type": "execute_result"
    }
   ],
   "source": [
    "binom.cdf(k = count, n = 1000, p = 0.05)"
   ]
  },
  {
   "cell_type": "markdown",
   "id": "e168a018",
   "metadata": {},
   "source": [
    "#### Probability of estimating a false positive rate at least this big, when the true false positive rate is 0.05."
   ]
  },
  {
   "cell_type": "code",
   "execution_count": 95,
   "id": "82d81f12",
   "metadata": {},
   "outputs": [
    {
     "data": {
      "text/plain": [
       "0.634439984835579"
      ]
     },
     "execution_count": 95,
     "metadata": {},
     "output_type": "execute_result"
    }
   ],
   "source": [
    "1 - binom.cdf(k = count, n = 1000, p = 0.05)"
   ]
  },
  {
   "cell_type": "markdown",
   "id": "80ee9a71",
   "metadata": {},
   "source": [
    "### Case 2 experiment 3: Calculating the false positives rate\n",
    "\n",
    "Case 2: left hippocampus is affected\n",
    "\n",
    "Experiment 3: run 20 iterations of the EM algorithm (original)"
   ]
  },
  {
   "cell_type": "code",
   "execution_count": 97,
   "id": "c5f5c51d",
   "metadata": {},
   "outputs": [
    {
     "data": {
      "text/plain": [
       "0.06"
      ]
     },
     "execution_count": 97,
     "metadata": {},
     "output_type": "execute_result"
    }
   ],
   "source": [
    "count = 0\n",
    "\n",
    "for i in range(2000, 3000): # For each of the 100 case 2 experiment 3 files...\n",
    "    reject_p = np.array([0, 0, 0, 0, 0, 0, 0, 0]) # For each repeat, assume no structures are affected (null hypothesis)\n",
    "    file = np.load(case_2[i]) # Load the file\n",
    "    file = file[\"arr_0\"] # Values corresponding to the key\n",
    "    file = sorting_function(file)\n",
    "    \n",
    "    for j in range(0, 7): # For the last two structures (left amygdala levels 1 and 2) in each repeat...\n",
    "        p = file[j].find(\"p=\") # Index of \"p\" in the string\n",
    "        pval = float(file[j][p::][2::]) # Extract the p-value\n",
    "        if pval < 0.05: # If the p-value is < 0.05...\n",
    "            reject_p[j] = 1\n",
    "        else:\n",
    "            break\n",
    "    \n",
    "    for r, s in zip(reject_p, file):\n",
    "        if \"Amyg\" in s and r: # If \"Amyg\" is in the string and we decided to reject H0...\n",
    "            count += 1\n",
    "            break\n",
    "\n",
    "\n",
    "count / 1000"
   ]
  },
  {
   "cell_type": "markdown",
   "id": "1a674ad8",
   "metadata": {},
   "source": [
    "Note: the false positive rate comes out to be 0.06 regardless of whether I comment out the line `file = sorting_function(file)` or not"
   ]
  },
  {
   "cell_type": "markdown",
   "id": "e61c30d6",
   "metadata": {},
   "source": [
    "#### Probability of estimating a false positive rate at least this small, when the true false positive rate is 0.05. "
   ]
  },
  {
   "cell_type": "code",
   "execution_count": 98,
   "id": "16fb32a7",
   "metadata": {},
   "outputs": [
    {
     "data": {
      "text/plain": [
       "0.9329374813666923"
      ]
     },
     "execution_count": 98,
     "metadata": {},
     "output_type": "execute_result"
    }
   ],
   "source": [
    "binom.cdf(k = count, n = 1000, p = 0.05)"
   ]
  },
  {
   "cell_type": "markdown",
   "id": "bb6c47a3",
   "metadata": {},
   "source": [
    "#### Probability of estimating a false positive rate at least this big, when the true false positive rate is 0.05."
   ]
  },
  {
   "cell_type": "code",
   "execution_count": 99,
   "id": "be2a52e5",
   "metadata": {},
   "outputs": [
    {
     "data": {
      "text/plain": [
       "0.0670625186333077"
      ]
     },
     "execution_count": 99,
     "metadata": {},
     "output_type": "execute_result"
    }
   ],
   "source": [
    "1 - binom.cdf(k = count, n = 1000, p = 0.05)"
   ]
  },
  {
   "cell_type": "code",
   "execution_count": null,
   "id": "a7602346",
   "metadata": {},
   "outputs": [],
   "source": []
  }
 ],
 "metadata": {
  "kernelspec": {
   "display_name": "Python 3 (ipykernel)",
   "language": "python",
   "name": "python3"
  },
  "language_info": {
   "codemirror_mode": {
    "name": "ipython",
    "version": 3
   },
   "file_extension": ".py",
   "mimetype": "text/x-python",
   "name": "python",
   "nbconvert_exporter": "python",
   "pygments_lexer": "ipython3",
   "version": "3.8.8"
  }
 },
 "nbformat": 4,
 "nbformat_minor": 5
}
