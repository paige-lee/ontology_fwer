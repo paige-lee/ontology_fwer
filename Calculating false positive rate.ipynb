{
 "cells": [
  {
   "cell_type": "markdown",
   "id": "5e2e78ac",
   "metadata": {},
   "source": [
    "## Logic for calculating the false positive rate\n",
    "\n",
    "#### Case 1 repeats (8 experiments, 100 repeats each):\n",
    "\n",
    "- None of the structures are actually affected \n",
    "- Record if there’s at least one structure that has p<0.05\n",
    "\n",
    "#### Case 2 repeats (8 experiments, 100 repeats each):\n",
    "\n",
    "- Left hippocampus (levels 1&2) are actually affected \n",
    "- Record if there’s at least one structure among the left amygdala (levels 1&2) have p<0.05\n",
    "\n",
    "#### Case 3 repeats (8 experiments, 100 repeats each):\n",
    "\n",
    "- Left hippocampus (levels 1&2) and left amygdala (levels 1&2) are actually affected \n",
    "- There are no structures in this case that could yield false positives (only true positives), so don’t consider case 3 repeats for false positives\n",
    "\n",
    "#### Case 4 repeats (8 experiments, 100 repeats each):\n",
    "\n",
    "- Use the saved Zs to see which structures are actually affected:\n",
    "\n",
    "    - If the left hippocampus is actually affected, record if there’s at least one structure among the left amygdala (levels 1&2) that has p<0.05\n",
    "    - If the left amygdala is affected, record if there’s at least one structure among the left hippocampus (levels 1&2) that has p<0.05\n",
    "\n",
    "#### In total, there are 800 * 4 = 3,200 repeats"
   ]
  },
  {
   "cell_type": "markdown",
   "id": "2a849844",
   "metadata": {},
   "source": [
    "## Viewing the contents of one of the .npz files"
   ]
  },
  {
   "cell_type": "code",
   "execution_count": 31,
   "id": "5afc34ae",
   "metadata": {},
   "outputs": [],
   "source": [
    "import numpy as np\n",
    "%matplotlib notebook\n",
    "import matplotlib.pyplot as plt\n",
    "import pandas as pd\n",
    "\n",
    "import scipy\n",
    "from scipy import stats\n",
    "from scipy.stats import binom"
   ]
  },
  {
   "cell_type": "code",
   "execution_count": 2,
   "id": "6b0d658f",
   "metadata": {},
   "outputs": [
    {
     "name": "stdout",
     "output_type": "stream",
     "text": [
      "arr_0\n",
      "['Limbic_L_434_3, P[Z=1|X]=0.037920449823881666, p=0.647'\n",
      " 'CerebralCortex_L_482_4, P[Z=1|X]=0.037920449823881666, p=0.647'\n",
      " 'Telencephalon_L_501_5, P[Z=1|X]=0.037920449823881666, p=0.647'\n",
      " 'Everything, P[Z=1|X]=0.037920449823881666, p=0.647'\n",
      " 'Hippo_L_75_1, P[Z=1|X]=0.0003457965129371767, p=0.88'\n",
      " 'Hippo_L_338_2, P[Z=1|X]=0.0003457965129371767, p=0.88'\n",
      " 'Amyg_L_73_1, P[Z=1|X]=8.875288279312776e-05, p=0.671'\n",
      " 'Amyg_L_336_2, P[Z=1|X]=8.875288279312776e-05, p=0.671']\n"
     ]
    }
   ],
   "source": [
    "# Viewing the contents of one of the .npz files \n",
    "# Assign the file to an object called \"test,\" which is a dictionary object\n",
    "test = np.load(\"case_1_experiment_1_repeat_0000.npz\")\n",
    "\n",
    "# Print each key in the dictionary \n",
    "for key in test: \n",
    "    print(key)\n",
    "\n",
    "# Print the values corresponding to this key\n",
    "print(test[\"arr_0\"])"
   ]
  },
  {
   "cell_type": "markdown",
   "id": "bbb6c18d",
   "metadata": {},
   "source": [
    "## Extracting the p-value for a structure in a given repeat\n",
    "\n",
    "Must run the next cell first, where `case_1` is defined"
   ]
  },
  {
   "cell_type": "code",
   "execution_count": 5,
   "id": "55f56d51",
   "metadata": {},
   "outputs": [
    {
     "data": {
      "text/plain": [
       "0.647"
      ]
     },
     "execution_count": 5,
     "metadata": {},
     "output_type": "execute_result"
    }
   ],
   "source": [
    "file = np.load(case_1[0])\n",
    "file = file[\"arr_0\"]\n",
    "p = file[0].find(\"p=\")\n",
    "float(file[0][p::][2::])"
   ]
  },
  {
   "cell_type": "markdown",
   "id": "11336e41",
   "metadata": {},
   "source": [
    "## Case 1 repeats\n",
    "\n",
    "General format of case 1 repeat files: case_1_experiment_x_repeat_xxxx.npz\n",
    "\n",
    "Case 1 experiments 1-8, repeats 0000 to 0099 → 8 * 100 = 800 files"
   ]
  },
  {
   "cell_type": "markdown",
   "id": "ed650246",
   "metadata": {},
   "source": [
    "### Case 1: Obtaining a list of file names"
   ]
  },
  {
   "cell_type": "code",
   "execution_count": 4,
   "id": "36279f76",
   "metadata": {},
   "outputs": [
    {
     "data": {
      "text/plain": [
       "(['case_1_experiment_1_repeat_0000.npz',\n",
       "  'case_1_experiment_1_repeat_0001.npz',\n",
       "  'case_1_experiment_1_repeat_0002.npz',\n",
       "  'case_1_experiment_1_repeat_0003.npz'],\n",
       " ['case_1_experiment_8_repeat_0096.npz',\n",
       "  'case_1_experiment_8_repeat_0097.npz',\n",
       "  'case_1_experiment_8_repeat_0098.npz',\n",
       "  'case_1_experiment_8_repeat_0099.npz'])"
      ]
     },
     "execution_count": 4,
     "metadata": {},
     "output_type": "execute_result"
    }
   ],
   "source": [
    "case_1 = []\n",
    "\n",
    "for i in range(1, 9):\n",
    "    for j in range(0, 100):\n",
    "        if j < 10:\n",
    "            string = \"case_1_experiment_\" + str(i) + \"_repeat_\" + \"000\" + str(j) + \".npz\"\n",
    "        else:\n",
    "            string = \"case_1_experiment_\" + str(i) + \"_repeat_\" + \"00\" + str(j) + \".npz\"\n",
    "        case_1.append(string)\n",
    "\n",
    "case_1[0:4], case_1[796:801]"
   ]
  },
  {
   "cell_type": "markdown",
   "id": "c27c9718",
   "metadata": {},
   "source": [
    "### Case 1 experiment 1: Calculating the false positives rate\n",
    "\n",
    "Case 1: nothing is affected\n",
    "\n",
    "Experiment 1: clip the probabilities at 0.999 and 0.001 (original)"
   ]
  },
  {
   "cell_type": "code",
   "execution_count": 51,
   "id": "aef7334c",
   "metadata": {},
   "outputs": [
    {
     "data": {
      "text/plain": [
       "0.03"
      ]
     },
     "execution_count": 51,
     "metadata": {},
     "output_type": "execute_result"
    }
   ],
   "source": [
    "count = 0\n",
    "\n",
    "for i in range(0, 100): # For each of the 100 case 1 experiment 1 files (00-99)...\n",
    "    reject_p = np.array([0, 0, 0, 0, 0, 0, 0, 0]) # For each repeat, assume no structures are affected (null hypothesis)\n",
    "    file = np.load(case_1[i]) # Load the file\n",
    "    file = file[\"arr_0\"] # Values corresponding to the key\n",
    "    \n",
    "    for j in range(0, 7): # For each structure in each repeat...\n",
    "        p = file[j].find(\"p=\") # Index of \"p\" in the string\n",
    "        pval = float(file[j][p::][2::]) # Extract the p-value\n",
    "        if pval < 0.05: # If the p-value is < 0.05...\n",
    "            reject_p[j] = 1\n",
    "        else: # The test statistic is the probabilities, which were sorted, so stop after the first structure we fail to reject\n",
    "            break\n",
    "     \n",
    "    if any(reject_p > 0): # If there's at least one structure with p < 0.05...\n",
    "        count += 1 # Add 1 to the false positive count\n",
    "\n",
    "count / 100"
   ]
  },
  {
   "cell_type": "markdown",
   "id": "259685a1",
   "metadata": {},
   "source": [
    "#### Probability of estimating a false positive rate at least this big, when the true false positive rate is 0.05. "
   ]
  },
  {
   "cell_type": "code",
   "execution_count": 52,
   "id": "e8ad03fc",
   "metadata": {},
   "outputs": [
    {
     "data": {
      "text/plain": [
       "0.2578386591160152"
      ]
     },
     "execution_count": 52,
     "metadata": {},
     "output_type": "execute_result"
    }
   ],
   "source": [
    "binom.cdf(k = count, n = 100, p = 0.05)"
   ]
  },
  {
   "cell_type": "markdown",
   "id": "2bc0bfbd",
   "metadata": {},
   "source": [
    "### Case 1 experiment 2: Calculating the false positives rate\n",
    "\n",
    "Case 1: nothing is affected\n",
    "\n",
    "Experiment 2: clip the probabilities at 0.9999 and 0.0001"
   ]
  },
  {
   "cell_type": "code",
   "execution_count": 53,
   "id": "9adc984c",
   "metadata": {},
   "outputs": [
    {
     "data": {
      "text/plain": [
       "0.01"
      ]
     },
     "execution_count": 53,
     "metadata": {},
     "output_type": "execute_result"
    }
   ],
   "source": [
    "count = 0\n",
    "\n",
    "for i in range(100, 200): # For each of the 100 case 1 experiment 2 files (00-99)...\n",
    "    reject_p = np.array([0, 0, 0, 0, 0, 0, 0, 0]) # For each repeat, assume no structures are affected (null hypothesis)\n",
    "    file = np.load(case_1[i]) # Load the file\n",
    "    file = file[\"arr_0\"] # Values corresponding to the key\n",
    "    \n",
    "    for j in range(0, 7): # For each structure in each repeat...\n",
    "        p = file[j].find(\"p=\") # Index of \"p\" in the string\n",
    "        pval = float(file[j][p::][2::]) # Extract the p-value\n",
    "        if pval < 0.05: # If the p-value is < 0.05...\n",
    "            reject_p[j] = 1\n",
    "        else: # The test statistic is the probabilities, which were sorted, so stop after the first structure we fail to reject\n",
    "            break\n",
    "     \n",
    "    if any(reject_p > 0): # If there's at least one structure with p < 0.05...\n",
    "        count += 1 # Add 1 to the false positive count\n",
    "\n",
    "count / 100"
   ]
  },
  {
   "cell_type": "markdown",
   "id": "65e31972",
   "metadata": {},
   "source": [
    "#### Probability of estimating a false positive rate at least this big, when the true false positive rate is 0.05. "
   ]
  },
  {
   "cell_type": "code",
   "execution_count": 54,
   "id": "927bfb32",
   "metadata": {},
   "outputs": [
    {
     "data": {
      "text/plain": [
       "0.037081209327355036"
      ]
     },
     "execution_count": 54,
     "metadata": {},
     "output_type": "execute_result"
    }
   ],
   "source": [
    "binom.cdf(k = count, n = 100, p = 0.05)"
   ]
  },
  {
   "cell_type": "markdown",
   "id": "317a3622",
   "metadata": {},
   "source": [
    "### Case 1 experiment 3: Calculating the false positives rate\n",
    "\n",
    "Case 1: nothing is affected\n",
    "\n",
    "Experiment 3: run 20 iterations of the EM algorithm (original)"
   ]
  },
  {
   "cell_type": "code",
   "execution_count": 55,
   "id": "81be66f0",
   "metadata": {},
   "outputs": [
    {
     "data": {
      "text/plain": [
       "0.01"
      ]
     },
     "execution_count": 55,
     "metadata": {},
     "output_type": "execute_result"
    }
   ],
   "source": [
    "count = 0\n",
    "\n",
    "for i in range(200, 300): # For each of the 100 case 1 experiment 3 files (00-99)...\n",
    "    reject_p = np.array([0, 0, 0, 0, 0, 0, 0, 0]) # For each repeat, assume no structures are affected (null hypothesis)\n",
    "    file = np.load(case_1[i]) # Load the file\n",
    "    file = file[\"arr_0\"] # Values corresponding to the key\n",
    "    \n",
    "    for j in range(0, 7): # For each structure in each repeat...\n",
    "        p = file[j].find(\"p=\") # Index of \"p\" in the string\n",
    "        pval = float(file[j][p::][2::]) # Extract the p-value\n",
    "        if pval < 0.05: # If the p-value is < 0.05...\n",
    "            reject_p[j] = 1\n",
    "        else: # The test statistic is the probabilities, which were sorted, so stop after the first structure we fail to reject\n",
    "            break\n",
    "     \n",
    "    if any(reject_p > 0): # If there's at least one structure with p < 0.05...\n",
    "        count += 1 # Add 1 to the false positive count\n",
    "\n",
    "count / 100"
   ]
  },
  {
   "cell_type": "markdown",
   "id": "606989f5",
   "metadata": {},
   "source": [
    "#### Probability of estimating a false positive rate at least this big, when the true false positive rate is 0.05. "
   ]
  },
  {
   "cell_type": "code",
   "execution_count": 56,
   "id": "dc304c77",
   "metadata": {},
   "outputs": [
    {
     "data": {
      "text/plain": [
       "0.037081209327355036"
      ]
     },
     "execution_count": 56,
     "metadata": {},
     "output_type": "execute_result"
    }
   ],
   "source": [
    "binom.cdf(k = count, n = 100, p = 0.05)"
   ]
  },
  {
   "cell_type": "markdown",
   "id": "68b2923a",
   "metadata": {},
   "source": [
    "### Case 1 experiment 4: Calculating the false positives rate\n",
    "\n",
    "Case 1: nothing is affected\n",
    "\n",
    "Experiment 4: run 50 iterations of the EM algorithm"
   ]
  },
  {
   "cell_type": "code",
   "execution_count": 57,
   "id": "e8fb7427",
   "metadata": {},
   "outputs": [
    {
     "data": {
      "text/plain": [
       "0.04"
      ]
     },
     "execution_count": 57,
     "metadata": {},
     "output_type": "execute_result"
    }
   ],
   "source": [
    "count = 0\n",
    "\n",
    "for i in range(300, 400): # For each of the 100 case 1 experiment 4 files (00-99)...\n",
    "    reject_p = np.array([0, 0, 0, 0, 0, 0, 0, 0]) # For each repeat, assume no structures are affected (null hypothesis)\n",
    "    file = np.load(case_1[i]) # Load the file\n",
    "    file = file[\"arr_0\"] # Values corresponding to the key\n",
    "    \n",
    "    for j in range(0, 7): # For each structure in each repeat...\n",
    "        p = file[j].find(\"p=\") # Index of \"p\" in the string\n",
    "        pval = float(file[j][p::][2::]) # Extract the p-value\n",
    "        if pval < 0.05: # If the p-value is < 0.05...\n",
    "            reject_p[j] = 1\n",
    "        else: # The test statistic is the probabilities, which were sorted, so stop after the first structure we fail to reject\n",
    "            break\n",
    "     \n",
    "    if any(reject_p > 0): # If there's at least one structure with p < 0.05...\n",
    "        count += 1 # Add 1 to the false positive count\n",
    "\n",
    "count / 100"
   ]
  },
  {
   "cell_type": "markdown",
   "id": "6412ffcf",
   "metadata": {},
   "source": [
    "#### Probability of estimating a false positive rate at least this big, when the true false positive rate is 0.05. "
   ]
  },
  {
   "cell_type": "code",
   "execution_count": 58,
   "id": "17cdcc00",
   "metadata": {},
   "outputs": [
    {
     "data": {
      "text/plain": [
       "0.43598130068571"
      ]
     },
     "execution_count": 58,
     "metadata": {},
     "output_type": "execute_result"
    }
   ],
   "source": [
    "binom.cdf(k = count, n = 100, p = 0.05)"
   ]
  },
  {
   "cell_type": "markdown",
   "id": "897a69c1",
   "metadata": {},
   "source": [
    "### Case 1 experiment 5: Calculating the false positives rate\n",
    "\n",
    "Case 1: nothing is affected\n",
    "\n",
    "Experiment 5: run 100 iterations of the EM algorithm"
   ]
  },
  {
   "cell_type": "code",
   "execution_count": 59,
   "id": "fc17526c",
   "metadata": {},
   "outputs": [
    {
     "data": {
      "text/plain": [
       "0.06"
      ]
     },
     "execution_count": 59,
     "metadata": {},
     "output_type": "execute_result"
    }
   ],
   "source": [
    "count = 0\n",
    "\n",
    "for i in range(400, 500): # For each of the 100 case 1 experiment 5 files (00-99)...\n",
    "    reject_p = np.array([0, 0, 0, 0, 0, 0, 0, 0]) # For each repeat, assume no structures are affected (null hypothesis)\n",
    "    file = np.load(case_1[i]) # Load the file\n",
    "    file = file[\"arr_0\"] # Values corresponding to the key\n",
    "    \n",
    "    for j in range(0, 7): # For each structure in each repeat...\n",
    "        p = file[j].find(\"p=\") # Index of \"p\" in the string\n",
    "        pval = float(file[j][p::][2::]) # Extract the p-value\n",
    "        if pval < 0.05: # If the p-value is < 0.05...\n",
    "            reject_p[j] = 1\n",
    "        else: # The test statistic is the probabilities, which were sorted, so stop after the first structure we fail to reject\n",
    "            break\n",
    "     \n",
    "    if any(reject_p > 0): # If there's at least one structure with p < 0.05...\n",
    "        count += 1 # Add 1 to the false positive count\n",
    "\n",
    "count / 100"
   ]
  },
  {
   "cell_type": "markdown",
   "id": "4c2ec8c5",
   "metadata": {},
   "source": [
    "#### Probability of estimating a false positive rate at least this big, when the true false positive rate is 0.05. "
   ]
  },
  {
   "cell_type": "code",
   "execution_count": 60,
   "id": "00c7d46f",
   "metadata": {},
   "outputs": [
    {
     "data": {
      "text/plain": [
       "0.7660139840148319"
      ]
     },
     "execution_count": 60,
     "metadata": {},
     "output_type": "execute_result"
    }
   ],
   "source": [
    "binom.cdf(k = count, n = 100, p = 0.05)"
   ]
  },
  {
   "cell_type": "markdown",
   "id": "3882d743",
   "metadata": {},
   "source": [
    "### Case 1 experiment 6: Calculating the false positives rate\n",
    "\n",
    "Case 1: nothing is affected\n",
    "\n",
    "Experiment 6: initial probabilities are 0.5 (original)"
   ]
  },
  {
   "cell_type": "code",
   "execution_count": 61,
   "id": "264fa695",
   "metadata": {},
   "outputs": [
    {
     "data": {
      "text/plain": [
       "0.04"
      ]
     },
     "execution_count": 61,
     "metadata": {},
     "output_type": "execute_result"
    }
   ],
   "source": [
    "count = 0\n",
    "\n",
    "for i in range(500, 600): # For each of the 100 case 1 experiment 6 files (00-99)...\n",
    "    reject_p = np.array([0, 0, 0, 0, 0, 0, 0, 0]) # For each repeat, assume no structures are affected (null hypothesis)\n",
    "    file = np.load(case_1[i]) # Load the file\n",
    "    file = file[\"arr_0\"] # Values corresponding to the key\n",
    "    \n",
    "    for j in range(0, 7): # For each structure in each repeat...\n",
    "        p = file[j].find(\"p=\") # Index of \"p\" in the string\n",
    "        pval = float(file[j][p::][2::]) # Extract the p-value\n",
    "        if pval < 0.05: # If the p-value is < 0.05...\n",
    "            reject_p[j] = 1\n",
    "        else: # The test statistic is the probabilities, which were sorted, so stop after the first structure we fail to reject\n",
    "            break\n",
    "     \n",
    "    if any(reject_p > 0): # If there's at least one structure with p < 0.05...\n",
    "        count += 1 # Add 1 to the false positive count\n",
    "\n",
    "count / 100"
   ]
  },
  {
   "cell_type": "markdown",
   "id": "f1b444ec",
   "metadata": {},
   "source": [
    "#### Probability of estimating a false positive rate at least this big, when the true false positive rate is 0.05. "
   ]
  },
  {
   "cell_type": "code",
   "execution_count": 62,
   "id": "9c7d20c8",
   "metadata": {},
   "outputs": [
    {
     "data": {
      "text/plain": [
       "0.43598130068571"
      ]
     },
     "execution_count": 62,
     "metadata": {},
     "output_type": "execute_result"
    }
   ],
   "source": [
    "binom.cdf(k = count, n = 100, p = 0.05)"
   ]
  },
  {
   "cell_type": "markdown",
   "id": "059160aa",
   "metadata": {},
   "source": [
    "### Case 1 experiment 7: Calculating the false positives rate\n",
    "\n",
    "Case 1: nothing is affected\n",
    "\n",
    "Experiment 7: initial probabilities are 0.25"
   ]
  },
  {
   "cell_type": "code",
   "execution_count": 63,
   "id": "ac417689",
   "metadata": {},
   "outputs": [
    {
     "data": {
      "text/plain": [
       "0.05"
      ]
     },
     "execution_count": 63,
     "metadata": {},
     "output_type": "execute_result"
    }
   ],
   "source": [
    "count = 0\n",
    "\n",
    "for i in range(600, 700): # For each of the 100 case 1 experiment 7 files (00-99)...\n",
    "    reject_p = np.array([0, 0, 0, 0, 0, 0, 0, 0]) # For each repeat, assume no structures are affected (null hypothesis)\n",
    "    file = np.load(case_1[i]) # Load the file\n",
    "    file = file[\"arr_0\"] # Values corresponding to the key\n",
    "    \n",
    "    for j in range(0, 7): # For each structure in each repeat...\n",
    "        p = file[j].find(\"p=\") # Index of \"p\" in the string\n",
    "        pval = float(file[j][p::][2::]) # Extract the p-value\n",
    "        if pval < 0.05: # If the p-value is < 0.05...\n",
    "            reject_p[j] = 1\n",
    "        else: # The test statistic is the probabilities, which were sorted, so stop after the first structure we fail to reject\n",
    "            break\n",
    "     \n",
    "    if any(reject_p > 0): # If there's at least one structure with p < 0.05...\n",
    "        count += 1 # Add 1 to the false positive count\n",
    "\n",
    "count / 100"
   ]
  },
  {
   "cell_type": "markdown",
   "id": "9c02c19c",
   "metadata": {},
   "source": [
    "#### Probability of estimating a false positive rate at least this big, when the true false positive rate is 0.05. "
   ]
  },
  {
   "cell_type": "code",
   "execution_count": 64,
   "id": "93d42c77",
   "metadata": {},
   "outputs": [
    {
     "data": {
      "text/plain": [
       "0.6159991279561414"
      ]
     },
     "execution_count": 64,
     "metadata": {},
     "output_type": "execute_result"
    }
   ],
   "source": [
    "binom.cdf(k = count, n = 100, p = 0.05)"
   ]
  },
  {
   "cell_type": "markdown",
   "id": "0f04e394",
   "metadata": {},
   "source": [
    "### Case 1 experiment 8: Calculating the false positives rate\n",
    "\n",
    "Case 1: nothing is affected\n",
    "\n",
    "Experiment 8: initial probabilities are 0.75"
   ]
  },
  {
   "cell_type": "code",
   "execution_count": 65,
   "id": "76485ede",
   "metadata": {},
   "outputs": [
    {
     "data": {
      "text/plain": [
       "0.04"
      ]
     },
     "execution_count": 65,
     "metadata": {},
     "output_type": "execute_result"
    }
   ],
   "source": [
    "count = 0\n",
    "\n",
    "for i in range(700, 800): # For each of the 100 case 1 experiment 8 files (00-99)...\n",
    "    reject_p = np.array([0, 0, 0, 0, 0, 0, 0, 0]) # For each repeat, assume no structures are affected (null hypothesis)\n",
    "    file = np.load(case_1[i]) # Load the file\n",
    "    file = file[\"arr_0\"] # Values corresponding to the key\n",
    "    \n",
    "    for j in range(0, 7): # For each structure in each repeat...\n",
    "        p = file[j].find(\"p=\") # Index of \"p\" in the string\n",
    "        pval = float(file[j][p::][2::]) # Extract the p-value\n",
    "        if pval < 0.05: # If the p-value is < 0.05...\n",
    "            reject_p[j] = 1\n",
    "        else: # The test statistic is the probabilities, which were sorted, so stop after the first structure we fail to reject\n",
    "            break\n",
    "     \n",
    "    if any(reject_p > 0): # If there's at least one structure with p < 0.05...\n",
    "        count += 1 # Add 1 to the false positive count\n",
    "\n",
    "count / 100"
   ]
  },
  {
   "cell_type": "markdown",
   "id": "104e8de6",
   "metadata": {},
   "source": [
    "#### Probability of estimating a false positive rate at least this big, when the true false positive rate is 0.05. "
   ]
  },
  {
   "cell_type": "code",
   "execution_count": 66,
   "id": "36716045",
   "metadata": {},
   "outputs": [
    {
     "data": {
      "text/plain": [
       "0.43598130068571"
      ]
     },
     "execution_count": 66,
     "metadata": {},
     "output_type": "execute_result"
    }
   ],
   "source": [
    "binom.cdf(k = count, n = 100, p = 0.05)"
   ]
  },
  {
   "cell_type": "markdown",
   "id": "e87955dd",
   "metadata": {},
   "source": [
    "## Case 2 repeats\n",
    "\n",
    "General format of case 2 repeat files: case_2_experiment_x_repeat_xxxx.npz\n",
    "\n",
    "Case 2 experiments 1-8, repeats 0000 to 0099 → 8 * 100 = 800 files"
   ]
  },
  {
   "cell_type": "markdown",
   "id": "7b4939c6",
   "metadata": {},
   "source": [
    "### Case 2: Obtaining a list of file names"
   ]
  },
  {
   "cell_type": "code",
   "execution_count": 21,
   "id": "1a35f0ea",
   "metadata": {},
   "outputs": [
    {
     "data": {
      "text/plain": [
       "(['case_2_experiment_1_repeat_0000.npz',\n",
       "  'case_2_experiment_1_repeat_0001.npz',\n",
       "  'case_2_experiment_1_repeat_0002.npz',\n",
       "  'case_2_experiment_1_repeat_0003.npz'],\n",
       " ['case_2_experiment_8_repeat_0096.npz',\n",
       "  'case_2_experiment_8_repeat_0097.npz',\n",
       "  'case_2_experiment_8_repeat_0098.npz',\n",
       "  'case_2_experiment_8_repeat_0099.npz'])"
      ]
     },
     "execution_count": 21,
     "metadata": {},
     "output_type": "execute_result"
    }
   ],
   "source": [
    "case_2 = []\n",
    "\n",
    "for i in range(1, 9):\n",
    "    for j in range(0, 100):\n",
    "        if j < 10:\n",
    "            string = \"case_2_experiment_\" + str(i) + \"_repeat_\" + \"000\" + str(j) + \".npz\"\n",
    "        else:\n",
    "            string = \"case_2_experiment_\" + str(i) + \"_repeat_\" + \"00\" + str(j) + \".npz\"\n",
    "        case_2.append(string)\n",
    "\n",
    "case_2[0:4], case_2[796:801]"
   ]
  },
  {
   "cell_type": "markdown",
   "id": "15b4bc46",
   "metadata": {},
   "source": [
    "### Case 2 experiment 1: Calculating the false positives rate\n",
    "\n",
    "Case 2: left hippocampus is affected\n",
    "\n",
    "Experiment 1: clip the probabilities at 0.999 and 0.001 (original)"
   ]
  },
  {
   "cell_type": "code",
   "execution_count": 67,
   "id": "b96abd08",
   "metadata": {},
   "outputs": [
    {
     "data": {
      "text/plain": [
       "0.07"
      ]
     },
     "execution_count": 67,
     "metadata": {},
     "output_type": "execute_result"
    }
   ],
   "source": [
    "count = 0\n",
    "\n",
    "for i in range(0, 100): # For each of the 100 case 2 experiment 1 files...\n",
    "    reject_p = np.array([0, 0, 0, 0, 0, 0, 0, 0]) # For each repeat, assume no structures are affected (null hypothesis)\n",
    "    file = np.load(case_2[i]) # Load the file\n",
    "    file = file[\"arr_0\"] # Values corresponding to the key\n",
    "    \n",
    "    for j in range(0, 7): # For the last two structures (left amygdala levels 1 and 2) in each repeat...\n",
    "        p = file[j].find(\"p=\") # Index of \"p\" in the string\n",
    "        pval = float(file[j][p::][2::]) # Extract the p-value\n",
    "        if pval < 0.05: # If the p-value is < 0.05...\n",
    "            reject_p[j] = 1\n",
    "        else:\n",
    "            break\n",
    "    \n",
    "    for r, s in zip(reject_p, file):\n",
    "        if \"Amyg\" in s and r: # If \"Amyg\" is in the string and we decided to reject H0...\n",
    "            count += 1\n",
    "            break\n",
    "\n",
    "\n",
    "count / 100"
   ]
  },
  {
   "cell_type": "markdown",
   "id": "d6b78324",
   "metadata": {},
   "source": [
    "#### Probability of estimating a false positive rate at least this big, when the true false positive rate is 0.05. "
   ]
  },
  {
   "cell_type": "code",
   "execution_count": 68,
   "id": "4435117f",
   "metadata": {},
   "outputs": [
    {
     "data": {
      "text/plain": [
       "0.872039521379621"
      ]
     },
     "execution_count": 68,
     "metadata": {},
     "output_type": "execute_result"
    }
   ],
   "source": [
    "binom.cdf(k = count, n = 100, p = 0.05)"
   ]
  },
  {
   "cell_type": "markdown",
   "id": "5901ce0b",
   "metadata": {},
   "source": [
    "### Case 2 experiment 2: Calculating the false positives rate\n",
    "\n",
    "Case 2: left hippocampus is affected\n",
    "\n",
    "Experiment 2: clip the probabilities at 0.9999 and 0.0001"
   ]
  },
  {
   "cell_type": "code",
   "execution_count": 69,
   "id": "8f7cec11",
   "metadata": {},
   "outputs": [
    {
     "data": {
      "text/plain": [
       "0.06"
      ]
     },
     "execution_count": 69,
     "metadata": {},
     "output_type": "execute_result"
    }
   ],
   "source": [
    "count = 0\n",
    "\n",
    "for i in range(100, 200): # For each of the 100 case 2 experiment 2 files...\n",
    "    reject_p = np.array([0, 0, 0, 0, 0, 0, 0, 0]) # For each repeat, assume no structures are affected (null hypothesis)\n",
    "    file = np.load(case_2[i]) # Load the file\n",
    "    file = file[\"arr_0\"] # Values corresponding to the key\n",
    "    \n",
    "    for j in range(0, 7): # For the last two structures (left amygdala levels 1 and 2) in each repeat...\n",
    "        p = file[j].find(\"p=\") # Index of \"p\" in the string\n",
    "        pval = float(file[j][p::][2::]) # Extract the p-value\n",
    "        if pval < 0.05: # If the p-value is < 0.05...\n",
    "            reject_p[j] = 1\n",
    "        else:\n",
    "            break\n",
    "    \n",
    "    for r, s in zip(reject_p, file):\n",
    "        if \"Amyg\" in s and r: # If \"Amyg\" is in the string and we decided to reject H0...\n",
    "            count += 1\n",
    "            break\n",
    "\n",
    "\n",
    "count / 100"
   ]
  },
  {
   "cell_type": "markdown",
   "id": "e8b12a6f",
   "metadata": {},
   "source": [
    "#### Probability of estimating a false positive rate at least this big, when the true false positive rate is 0.05. "
   ]
  },
  {
   "cell_type": "code",
   "execution_count": 70,
   "id": "15f21dfa",
   "metadata": {},
   "outputs": [
    {
     "data": {
      "text/plain": [
       "0.7660139840148319"
      ]
     },
     "execution_count": 70,
     "metadata": {},
     "output_type": "execute_result"
    }
   ],
   "source": [
    "binom.cdf(k = count, n = 100, p = 0.05)"
   ]
  },
  {
   "cell_type": "markdown",
   "id": "d94fd95a",
   "metadata": {},
   "source": [
    "### Case 2 experiment 3: Calculating the false positives rate\n",
    "\n",
    "Case 2: left hippocampus is affected\n",
    "\n",
    "Experiment 3: run 20 iterations of the EM algorithm (original)"
   ]
  },
  {
   "cell_type": "code",
   "execution_count": 71,
   "id": "44a56018",
   "metadata": {},
   "outputs": [
    {
     "data": {
      "text/plain": [
       "0.05"
      ]
     },
     "execution_count": 71,
     "metadata": {},
     "output_type": "execute_result"
    }
   ],
   "source": [
    "count = 0\n",
    "\n",
    "for i in range(200, 300): # For each of the 100 case 2 experiment 3 files...\n",
    "    reject_p = np.array([0, 0, 0, 0, 0, 0, 0, 0]) # For each repeat, assume no structures are affected (null hypothesis)\n",
    "    file = np.load(case_2[i]) # Load the file\n",
    "    file = file[\"arr_0\"] # Values corresponding to the key\n",
    "    \n",
    "    for j in range(0, 7): # For the last two structures (left amygdala levels 1 and 2) in each repeat...\n",
    "        p = file[j].find(\"p=\") # Index of \"p\" in the string\n",
    "        pval = float(file[j][p::][2::]) # Extract the p-value\n",
    "        if pval < 0.05: # If the p-value is < 0.05...\n",
    "            reject_p[j] = 1\n",
    "        else:\n",
    "            break\n",
    "    \n",
    "    for r, s in zip(reject_p, file):\n",
    "        if \"Amyg\" in s and r: # If \"Amyg\" is in the string and we decided to reject H0...\n",
    "            count += 1\n",
    "            break\n",
    "\n",
    "\n",
    "count / 100"
   ]
  },
  {
   "cell_type": "markdown",
   "id": "96a7b12e",
   "metadata": {},
   "source": [
    "#### Probability of estimating a false positive rate at least this big, when the true false positive rate is 0.05. "
   ]
  },
  {
   "cell_type": "code",
   "execution_count": 72,
   "id": "e13a8c13",
   "metadata": {},
   "outputs": [
    {
     "data": {
      "text/plain": [
       "0.6159991279561414"
      ]
     },
     "execution_count": 72,
     "metadata": {},
     "output_type": "execute_result"
    }
   ],
   "source": [
    "binom.cdf(k = count, n = 100, p = 0.05)"
   ]
  },
  {
   "cell_type": "markdown",
   "id": "c39d23ad",
   "metadata": {},
   "source": [
    "### Case 2 experiment 4: Calculating the false positives rate\n",
    "\n",
    "Case 2: left hippocampus is affected\n",
    "\n",
    "Experiment 4: run 50 iterations of the EM algorithm"
   ]
  },
  {
   "cell_type": "code",
   "execution_count": 73,
   "id": "5f232eef",
   "metadata": {},
   "outputs": [
    {
     "data": {
      "text/plain": [
       "0.07"
      ]
     },
     "execution_count": 73,
     "metadata": {},
     "output_type": "execute_result"
    }
   ],
   "source": [
    "count = 0\n",
    "\n",
    "for i in range(300, 400): # For each of the 100 case 2 experiment 4 files...\n",
    "    reject_p = np.array([0, 0, 0, 0, 0, 0, 0, 0]) # For each repeat, assume no structures are affected (null hypothesis)\n",
    "    file = np.load(case_2[i]) # Load the file\n",
    "    file = file[\"arr_0\"] # Values corresponding to the key\n",
    "    \n",
    "    for j in range(0, 7): # For the last two structures (left amygdala levels 1 and 2) in each repeat...\n",
    "        p = file[j].find(\"p=\") # Index of \"p\" in the string\n",
    "        pval = float(file[j][p::][2::]) # Extract the p-value\n",
    "        if pval < 0.05: # If the p-value is < 0.05...\n",
    "            reject_p[j] = 1\n",
    "        else:\n",
    "            break\n",
    "    \n",
    "    for r, s in zip(reject_p, file):\n",
    "        if \"Amyg\" in s and r: # If \"Amyg\" is in the string and we decided to reject H0...\n",
    "            count += 1\n",
    "            break\n",
    "\n",
    "\n",
    "count / 100"
   ]
  },
  {
   "cell_type": "markdown",
   "id": "8e7979b1",
   "metadata": {},
   "source": [
    "#### Probability of estimating a false positive rate at least this big, when the true false positive rate is 0.05. "
   ]
  },
  {
   "cell_type": "code",
   "execution_count": 74,
   "id": "92f20df8",
   "metadata": {},
   "outputs": [
    {
     "data": {
      "text/plain": [
       "0.872039521379621"
      ]
     },
     "execution_count": 74,
     "metadata": {},
     "output_type": "execute_result"
    }
   ],
   "source": [
    "binom.cdf(k = count, n = 100, p = 0.05)"
   ]
  },
  {
   "cell_type": "markdown",
   "id": "45b554fb",
   "metadata": {},
   "source": [
    "### Case 2 experiment 5: Calculating the false positives rate\n",
    "\n",
    "Case 2: left hippocampus is affected\n",
    "\n",
    "Experiment 5: run 100 iterations of the EM algorithm"
   ]
  },
  {
   "cell_type": "code",
   "execution_count": 75,
   "id": "a6a0c9e4",
   "metadata": {},
   "outputs": [
    {
     "data": {
      "text/plain": [
       "0.08"
      ]
     },
     "execution_count": 75,
     "metadata": {},
     "output_type": "execute_result"
    }
   ],
   "source": [
    "count = 0\n",
    "\n",
    "for i in range(400, 500): # For each of the 100 case 2 experiment 5 files...\n",
    "    reject_p = np.array([0, 0, 0, 0, 0, 0, 0, 0]) # For each repeat, assume no structures are affected (null hypothesis)\n",
    "    file = np.load(case_2[i]) # Load the file\n",
    "    file = file[\"arr_0\"] # Values corresponding to the key\n",
    "    \n",
    "    for j in range(0, 7): # For the last two structures (left amygdala levels 1 and 2) in each repeat...\n",
    "        p = file[j].find(\"p=\") # Index of \"p\" in the string\n",
    "        pval = float(file[j][p::][2::]) # Extract the p-value\n",
    "        if pval < 0.05: # If the p-value is < 0.05...\n",
    "            reject_p[j] = 1\n",
    "        else:\n",
    "            break\n",
    "    \n",
    "    for r, s in zip(reject_p, file):\n",
    "        if \"Amyg\" in s and r: # If \"Amyg\" is in the string and we decided to reject H0...\n",
    "            count += 1\n",
    "            break\n",
    "\n",
    "\n",
    "count / 100"
   ]
  },
  {
   "cell_type": "markdown",
   "id": "e9b6945b",
   "metadata": {},
   "source": [
    "#### Probability of estimating a false positive rate at least this big, when the true false positive rate is 0.05. "
   ]
  },
  {
   "cell_type": "code",
   "execution_count": 76,
   "id": "93928632",
   "metadata": {},
   "outputs": [
    {
     "data": {
      "text/plain": [
       "0.9369104093725512"
      ]
     },
     "execution_count": 76,
     "metadata": {},
     "output_type": "execute_result"
    }
   ],
   "source": [
    "binom.cdf(k = count, n = 100, p = 0.05)"
   ]
  },
  {
   "cell_type": "markdown",
   "id": "969dbc67",
   "metadata": {},
   "source": [
    "### Case 2 experiment 6: Calculating the false positives rate\n",
    "\n",
    "Case 2: left hippocampus is affected\n",
    "\n",
    "Experiment 6: initial probabilities are 0.5 (original)"
   ]
  },
  {
   "cell_type": "code",
   "execution_count": 77,
   "id": "51b91407",
   "metadata": {},
   "outputs": [
    {
     "data": {
      "text/plain": [
       "0.04"
      ]
     },
     "execution_count": 77,
     "metadata": {},
     "output_type": "execute_result"
    }
   ],
   "source": [
    "count = 0\n",
    "\n",
    "for i in range(500, 600): # For each of the 100 case 2 experiment 6 files...\n",
    "    reject_p = np.array([0, 0, 0, 0, 0, 0, 0, 0]) # For each repeat, assume no structures are affected (null hypothesis)\n",
    "    file = np.load(case_2[i]) # Load the file\n",
    "    file = file[\"arr_0\"] # Values corresponding to the key\n",
    "    \n",
    "    for j in range(0, 7): # For the last two structures (left amygdala levels 1 and 2) in each repeat...\n",
    "        p = file[j].find(\"p=\") # Index of \"p\" in the string\n",
    "        pval = float(file[j][p::][2::]) # Extract the p-value\n",
    "        if pval < 0.05: # If the p-value is < 0.05...\n",
    "            reject_p[j] = 1\n",
    "        else:\n",
    "            break\n",
    "    \n",
    "    for r, s in zip(reject_p, file):\n",
    "        if \"Amyg\" in s and r: # If \"Amyg\" is in the string and we decided to reject H0...\n",
    "            count += 1\n",
    "            break\n",
    "\n",
    "\n",
    "count / 100"
   ]
  },
  {
   "cell_type": "markdown",
   "id": "0751c4da",
   "metadata": {},
   "source": [
    "#### Probability of estimating a false positive rate at least this big, when the true false positive rate is 0.05. "
   ]
  },
  {
   "cell_type": "code",
   "execution_count": 78,
   "id": "0e5371d0",
   "metadata": {},
   "outputs": [
    {
     "data": {
      "text/plain": [
       "0.43598130068571"
      ]
     },
     "execution_count": 78,
     "metadata": {},
     "output_type": "execute_result"
    }
   ],
   "source": [
    "binom.cdf(k = count, n = 100, p = 0.05)"
   ]
  },
  {
   "cell_type": "markdown",
   "id": "87bc6cff",
   "metadata": {},
   "source": [
    "### Case 2 experiment 7: Calculating the false positives rate\n",
    "\n",
    "Case 2: left hippocampus is affected\n",
    "\n",
    "Experiment 7: initial probabilities are 0.25"
   ]
  },
  {
   "cell_type": "code",
   "execution_count": 79,
   "id": "d00365cd",
   "metadata": {},
   "outputs": [
    {
     "data": {
      "text/plain": [
       "0.05"
      ]
     },
     "execution_count": 79,
     "metadata": {},
     "output_type": "execute_result"
    }
   ],
   "source": [
    "count = 0\n",
    "\n",
    "for i in range(600, 700): # For each of the 100 case 2 experiment 7 files...\n",
    "    reject_p = np.array([0, 0, 0, 0, 0, 0, 0, 0]) # For each repeat, assume no structures are affected (null hypothesis)\n",
    "    file = np.load(case_2[i]) # Load the file\n",
    "    file = file[\"arr_0\"] # Values corresponding to the key\n",
    "    \n",
    "    for j in range(0, 7): # For the last two structures (left amygdala levels 1 and 2) in each repeat...\n",
    "        p = file[j].find(\"p=\") # Index of \"p\" in the string\n",
    "        pval = float(file[j][p::][2::]) # Extract the p-value\n",
    "        if pval < 0.05: # If the p-value is < 0.05...\n",
    "            reject_p[j] = 1\n",
    "        else:\n",
    "            break\n",
    "    \n",
    "    for r, s in zip(reject_p, file):\n",
    "        if \"Amyg\" in s and r: # If \"Amyg\" is in the string and we decided to reject H0...\n",
    "            count += 1\n",
    "            break\n",
    "\n",
    "\n",
    "count / 100"
   ]
  },
  {
   "cell_type": "markdown",
   "id": "2b25606f",
   "metadata": {},
   "source": [
    "#### Probability of estimating a false positive rate at least this big, when the true false positive rate is 0.05. "
   ]
  },
  {
   "cell_type": "code",
   "execution_count": 80,
   "id": "f40f3931",
   "metadata": {},
   "outputs": [
    {
     "data": {
      "text/plain": [
       "0.6159991279561414"
      ]
     },
     "execution_count": 80,
     "metadata": {},
     "output_type": "execute_result"
    }
   ],
   "source": [
    "binom.cdf(k = count, n = 100, p = 0.05)"
   ]
  },
  {
   "cell_type": "markdown",
   "id": "c1b4fa29",
   "metadata": {},
   "source": [
    "### Case 2 experiment 8: Calculating the false positives rate\n",
    "\n",
    "Case 2: left hippocampus is affected\n",
    "\n",
    "Experiment 8: initial probabilities are 0.75"
   ]
  },
  {
   "cell_type": "code",
   "execution_count": 81,
   "id": "91bc9407",
   "metadata": {},
   "outputs": [
    {
     "data": {
      "text/plain": [
       "0.07"
      ]
     },
     "execution_count": 81,
     "metadata": {},
     "output_type": "execute_result"
    }
   ],
   "source": [
    "count = 0\n",
    "\n",
    "for i in range(700, 800): # For each of the 100 case 2 experiment 8 files...\n",
    "    reject_p = np.array([0, 0, 0, 0, 0, 0, 0, 0]) # For each repeat, assume no structures are affected (null hypothesis)\n",
    "    file = np.load(case_2[i]) # Load the file\n",
    "    file = file[\"arr_0\"] # Values corresponding to the key\n",
    "    \n",
    "    for j in range(0, 7): # For the last two structures (left amygdala levels 1 and 2) in each repeat...\n",
    "        p = file[j].find(\"p=\") # Index of \"p\" in the string\n",
    "        pval = float(file[j][p::][2::]) # Extract the p-value\n",
    "        if pval < 0.05: # If the p-value is < 0.05...\n",
    "            reject_p[j] = 1\n",
    "        else:\n",
    "            break\n",
    "    \n",
    "    for r, s in zip(reject_p, file):\n",
    "        if \"Amyg\" in s and r: # If \"Amyg\" is in the string and we decided to reject H0...\n",
    "            count += 1\n",
    "            break\n",
    "\n",
    "\n",
    "count / 100"
   ]
  },
  {
   "cell_type": "markdown",
   "id": "bb9ed766",
   "metadata": {},
   "source": [
    "#### Probability of estimating a false positive rate at least this big, when the true false positive rate is 0.05. "
   ]
  },
  {
   "cell_type": "code",
   "execution_count": 82,
   "id": "dea761dd",
   "metadata": {},
   "outputs": [
    {
     "data": {
      "text/plain": [
       "0.872039521379621"
      ]
     },
     "execution_count": 82,
     "metadata": {},
     "output_type": "execute_result"
    }
   ],
   "source": [
    "binom.cdf(k = count, n = 100, p = 0.05)"
   ]
  },
  {
   "cell_type": "markdown",
   "id": "0863dd9b",
   "metadata": {},
   "source": [
    "## Case 4 repeats\n",
    "\n",
    "General format of case 4 repeat files: case_4_experiment_x_repeat_xxxx.npz\n",
    "\n",
    "Case 4 experiments 1-8, repeats 0000 to 0099 → 8 * 100 = 800 files"
   ]
  },
  {
   "cell_type": "markdown",
   "id": "2ada60aa",
   "metadata": {},
   "source": [
    "### Case 4: Obtaining a list of file names"
   ]
  },
  {
   "cell_type": "code",
   "execution_count": 6,
   "id": "745bd61e",
   "metadata": {},
   "outputs": [
    {
     "data": {
      "text/plain": [
       "(['case_4_experiment_1_repeat_0000.npz',\n",
       "  'case_4_experiment_1_repeat_0001.npz',\n",
       "  'case_4_experiment_1_repeat_0002.npz',\n",
       "  'case_4_experiment_1_repeat_0003.npz'],\n",
       " ['case_4_experiment_8_repeat_0096.npz',\n",
       "  'case_4_experiment_8_repeat_0097.npz',\n",
       "  'case_4_experiment_8_repeat_0098.npz',\n",
       "  'case_4_experiment_8_repeat_0099.npz'])"
      ]
     },
     "execution_count": 6,
     "metadata": {},
     "output_type": "execute_result"
    }
   ],
   "source": [
    "case_4 = []\n",
    "\n",
    "for i in range(1, 9):\n",
    "    for j in range(0, 100):\n",
    "        if j < 10:\n",
    "            string = \"case_4_experiment_\" + str(i) + \"_repeat_\" + \"000\" + str(j) + \".npz\"\n",
    "        else:\n",
    "            string = \"case_4_experiment_\" + str(i) + \"_repeat_\" + \"00\" + str(j) + \".npz\"\n",
    "        case_4.append(string)\n",
    "\n",
    "case_4[0:4], case_4[796:801]"
   ]
  },
  {
   "cell_type": "markdown",
   "id": "0d3fd16f",
   "metadata": {},
   "source": [
    "### Case 4: Calculating the false positives rate"
   ]
  },
  {
   "cell_type": "code",
   "execution_count": null,
   "id": "d14d7aeb",
   "metadata": {},
   "outputs": [],
   "source": []
  }
 ],
 "metadata": {
  "kernelspec": {
   "display_name": "Python 3 (ipykernel)",
   "language": "python",
   "name": "python3"
  },
  "language_info": {
   "codemirror_mode": {
    "name": "ipython",
    "version": 3
   },
   "file_extension": ".py",
   "mimetype": "text/x-python",
   "name": "python",
   "nbconvert_exporter": "python",
   "pygments_lexer": "ipython3",
   "version": "3.8.8"
  }
 },
 "nbformat": 4,
 "nbformat_minor": 5
}
